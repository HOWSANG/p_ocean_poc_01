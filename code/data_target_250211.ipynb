{
 "cells": [
  {
   "cell_type": "code",
   "execution_count": 1,
   "metadata": {},
   "outputs": [],
   "source": [
    "import pandas as pd\n",
    "import numpy as np\n",
    "import psycopg2\n",
    "import pyodbc\n",
    "import mysql.connector\n",
    "import json\n",
    "import matplotlib.pyplot as plt\n",
    "import seaborn as sns\n",
    "from decimal import Decimal\n",
    "\n",
    "import requests\n",
    "import datetime\n",
    "from tqdm import tqdm"
   ]
  },
  {
   "cell_type": "code",
   "execution_count": 2,
   "metadata": {},
   "outputs": [
    {
     "data": {
      "text/plain": [
       "['MySQL']"
      ]
     },
     "execution_count": 2,
     "metadata": {},
     "output_type": "execute_result"
    }
   ],
   "source": [
    "pyodbc.drivers()"
   ]
  },
  {
   "cell_type": "code",
   "execution_count": 3,
   "metadata": {},
   "outputs": [],
   "source": [
    "# Redshift 연결 정보\n",
    "host='dev-data-etl-rs.ct0xxcn9xq5g.ap-northeast-2.redshift.amazonaws.com'\n",
    "dbname='data_analysis_db'\n",
    "user='stella'\n",
    "password='iWntan282E5jJQc'\n",
    "port='5439'"
   ]
  },
  {
   "cell_type": "code",
   "execution_count": 4,
   "metadata": {},
   "outputs": [],
   "source": [
    "# Redshift에 연결\n",
    "conn = psycopg2.connect(\n",
    "    host=host,\n",
    "    dbname=dbname,\n",
    "    user=user,\n",
    "    password=password,\n",
    "    port=port\n",
    ")"
   ]
  },
  {
   "cell_type": "code",
   "execution_count": 5,
   "metadata": {},
   "outputs": [],
   "source": [
    "# 커서 생성\n",
    "cursor = conn.cursor()\n",
    "# SQL 쿼리 실행 (예시: frigga_sample 테이블에서 모든 데이터를 조회)\n",
    "cursor.execute(\"\"\"                          \n",
    "                    SELECT \n",
    "                        *\n",
    "                    FROM \n",
    "                        \"data_analysis_db\".\"da_schema\".\"t_frigga_weather_map_alert\"\n",
    "                    WHERE 1=1\n",
    "                        -- AND device_serial='VC6M6094'\n",
    "                    ORDER BY device_datetime_kor ASC\n",
    "                ;\n",
    "               \"\"\")\n",
    "\n",
    "# 결과 가져오기\n",
    "rows = cursor.fetchall()\n",
    "\n",
    "cursor.close()\n",
    "conn.close()"
   ]
  },
  {
   "cell_type": "code",
   "execution_count": 6,
   "metadata": {},
   "outputs": [
    {
     "name": "stdout",
     "output_type": "stream",
     "text": [
      "데이터프레임 크기: (146528, 53)\n",
      "\n",
      "처음 5행 데이터:\n",
      "  device_datetime_kor device_serial        lat         lon battery  \\\n",
      "0 2024-11-14 18:57:04      VC6M60CA  37.420428  126.572040   100.0   \n",
      "1 2024-11-14 19:07:04      VC6M60CA  37.420428  126.572040   100.0   \n",
      "2 2024-11-14 19:17:04      VC6M60CA  37.420428  126.572040   100.0   \n",
      "3 2024-11-14 19:27:04      VC6M60CA  37.420428  126.572040   100.0   \n",
      "4 2024-11-14 19:37:04      VC6M60CA  37.420428  126.572040   100.0   \n",
      "\n",
      "  temperature humidity acc_orig  acc accx  ... humi_start humi_end Q1_acc  \\\n",
      "0        18.7     58.0      1.0  1.0  0.0  ...      53.50    65.50   0.91   \n",
      "1        18.5     59.0      0.9  0.9  0.0  ...      53.50    65.50   0.91   \n",
      "2        18.7     58.0      1.0  1.0  0.0  ...      53.50    65.50   0.91   \n",
      "3        18.6     59.0      0.9  0.9  0.0  ...      53.50    65.50   0.91   \n",
      "4        18.5     59.0      0.9  0.9  0.0  ...      53.50    65.50   0.91   \n",
      "\n",
      "  Q3_acc acc_start acc_end  alert_temp alert_humi alert_acc item_shock  \n",
      "0   0.91      0.91    0.91          정상         정상        일탈         정상  \n",
      "1   0.91      0.91    0.91          정상         정상        일탈         정상  \n",
      "2   0.91      0.91    0.91          정상         정상        일탈         정상  \n",
      "3   0.91      0.91    0.91          정상         정상        일탈         정상  \n",
      "4   0.91      0.91    0.91          정상         정상        일탈         정상  \n",
      "\n",
      "[5 rows x 53 columns]\n"
     ]
    }
   ],
   "source": [
    "# 컬럼명 리스트 정의\n",
    "columns = ['device_datetime_kor', 'device_serial', 'lat', 'lon', 'battery'\n",
    "           , 'temperature', 'humidity', 'acc_orig', 'acc', 'accx', 'accy', 'accz'\n",
    "           , 'tiltx', 'tilty', 'tiltz', 'measure_date_kst', 'aws_station_id'\n",
    "           , 'aws_station_name', 'aws_lat', 'aws_lon', 'distance_km', 'ws1', 'ws10', 'ta', 'hm'\n",
    "           , 'min_temp', 'max_temp', 'mean_temp', 'std_temp'\n",
    "           , 'min_humi', 'max_humi', 'mean_humi', 'std_humi'\n",
    "           , 'min_acc', 'max_acc', 'mean_acc', 'std_acc'\n",
    "           , 'Q1_temp', 'Q3_temp', 'temp_start', 'temp_end'\n",
    "           , 'Q1_humi', 'Q3_humi', 'humi_start', 'humi_end'\n",
    "           , 'Q1_acc', 'Q3_acc', 'acc_start', 'acc_end'\n",
    "           , 'alert_temp', 'alert_humi', 'alert_acc', 'item_shock']\n",
    "\n",
    "# rows를 DataFrame으로 변환\n",
    "df= pd.DataFrame(rows, columns=columns)\n",
    "\n",
    "# 데이터프레임 확인\n",
    "print(\"데이터프레임 크기:\", df.shape)\n",
    "print(\"\\n처음 5행 데이터:\")\n",
    "print(df.head())"
   ]
  },
  {
   "cell_type": "code",
   "execution_count": 15,
   "metadata": {},
   "outputs": [
    {
     "data": {
      "text/plain": [
       "<bound method Series.count of item_shock\n",
       "정상    146440\n",
       "파손        88\n",
       "dtype: int64>"
      ]
     },
     "execution_count": 15,
     "metadata": {},
     "output_type": "execute_result"
    }
   ],
   "source": [
    "df.groupby('item_shock').size().count"
   ]
  },
  {
   "cell_type": "code",
   "execution_count": 16,
   "metadata": {},
   "outputs": [
    {
     "data": {
      "text/html": [
       "<div>\n",
       "<style scoped>\n",
       "    .dataframe tbody tr th:only-of-type {\n",
       "        vertical-align: middle;\n",
       "    }\n",
       "\n",
       "    .dataframe tbody tr th {\n",
       "        vertical-align: top;\n",
       "    }\n",
       "\n",
       "    .dataframe thead th {\n",
       "        text-align: right;\n",
       "    }\n",
       "</style>\n",
       "<table border=\"1\" class=\"dataframe\">\n",
       "  <thead>\n",
       "    <tr style=\"text-align: right;\">\n",
       "      <th></th>\n",
       "      <th>device_serial</th>\n",
       "      <th>item_shock</th>\n",
       "      <th>count</th>\n",
       "    </tr>\n",
       "  </thead>\n",
       "  <tbody>\n",
       "    <tr>\n",
       "      <th>0</th>\n",
       "      <td>VC6M6002</td>\n",
       "      <td>정상</td>\n",
       "      <td>925</td>\n",
       "    </tr>\n",
       "    <tr>\n",
       "      <th>1</th>\n",
       "      <td>VC6M6003</td>\n",
       "      <td>정상</td>\n",
       "      <td>829</td>\n",
       "    </tr>\n",
       "    <tr>\n",
       "      <th>2</th>\n",
       "      <td>VC6M6003</td>\n",
       "      <td>파손</td>\n",
       "      <td>1</td>\n",
       "    </tr>\n",
       "    <tr>\n",
       "      <th>3</th>\n",
       "      <td>VC6M6007</td>\n",
       "      <td>정상</td>\n",
       "      <td>3916</td>\n",
       "    </tr>\n",
       "    <tr>\n",
       "      <th>4</th>\n",
       "      <td>VC6M6007</td>\n",
       "      <td>파손</td>\n",
       "      <td>3</td>\n",
       "    </tr>\n",
       "    <tr>\n",
       "      <th>...</th>\n",
       "      <td>...</td>\n",
       "      <td>...</td>\n",
       "      <td>...</td>\n",
       "    </tr>\n",
       "    <tr>\n",
       "      <th>204</th>\n",
       "      <td>VC6M61C4</td>\n",
       "      <td>정상</td>\n",
       "      <td>12</td>\n",
       "    </tr>\n",
       "    <tr>\n",
       "      <th>205</th>\n",
       "      <td>VC6M61ED</td>\n",
       "      <td>정상</td>\n",
       "      <td>10</td>\n",
       "    </tr>\n",
       "    <tr>\n",
       "      <th>206</th>\n",
       "      <td>VC6ML002</td>\n",
       "      <td>정상</td>\n",
       "      <td>402</td>\n",
       "    </tr>\n",
       "    <tr>\n",
       "      <th>207</th>\n",
       "      <td>VC6ML002</td>\n",
       "      <td>파손</td>\n",
       "      <td>7</td>\n",
       "    </tr>\n",
       "    <tr>\n",
       "      <th>208</th>\n",
       "      <td>VC6ML003</td>\n",
       "      <td>정상</td>\n",
       "      <td>1528</td>\n",
       "    </tr>\n",
       "  </tbody>\n",
       "</table>\n",
       "<p>209 rows × 3 columns</p>\n",
       "</div>"
      ],
      "text/plain": [
       "    device_serial item_shock  count\n",
       "0        VC6M6002         정상    925\n",
       "1        VC6M6003         정상    829\n",
       "2        VC6M6003         파손      1\n",
       "3        VC6M6007         정상   3916\n",
       "4        VC6M6007         파손      3\n",
       "..            ...        ...    ...\n",
       "204      VC6M61C4         정상     12\n",
       "205      VC6M61ED         정상     10\n",
       "206      VC6ML002         정상    402\n",
       "207      VC6ML002         파손      7\n",
       "208      VC6ML003         정상   1528\n",
       "\n",
       "[209 rows x 3 columns]"
      ]
     },
     "execution_count": 16,
     "metadata": {},
     "output_type": "execute_result"
    }
   ],
   "source": [
    "df.groupby(['device_serial', 'item_shock']).size().reset_index(name='count')"
   ]
  },
  {
   "cell_type": "code",
   "execution_count": null,
   "metadata": {},
   "outputs": [],
   "source": []
  }
 ],
 "metadata": {
  "kernelspec": {
   "display_name": "willog",
   "language": "python",
   "name": "python3"
  },
  "language_info": {
   "codemirror_mode": {
    "name": "ipython",
    "version": 3
   },
   "file_extension": ".py",
   "mimetype": "text/x-python",
   "name": "python",
   "nbconvert_exporter": "python",
   "pygments_lexer": "ipython3",
   "version": "3.10.15"
  }
 },
 "nbformat": 4,
 "nbformat_minor": 2
}
