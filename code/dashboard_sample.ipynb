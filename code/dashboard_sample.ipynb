{
 "cells": [
  {
   "cell_type": "code",
   "execution_count": 1,
   "metadata": {},
   "outputs": [],
   "source": [
    "import pandas as pd\n",
    "import dash\n",
    "from dash import dcc, html\n",
    "import dash_daq as daq\n",
    "\n",
    "import numpy as np\n",
    "import plotly.express as px\n",
    "import psycopg2\n",
    "import pyodbc\n",
    "import mysql.connector\n",
    "import matplotlib.pyplot as plt\n",
    "import plotly.graph_objects as go\n",
    "import seaborn as sns\n",
    "from decimal import Decimal\n",
    "\n",
    "import datetime\n",
    "from tqdm import tqdm\n",
    "\n",
    "import warnings\n",
    "warnings.filterwarnings('ignore')\n",
    "\n",
    "pd.set_option('display.max_columns', None)"
   ]
  },
  {
   "cell_type": "code",
   "execution_count": 2,
   "metadata": {},
   "outputs": [],
   "source": [
    "# Redshift 연결 정보\n",
    "# Redshift 연결 정보\n",
    "host='dev-data-etl-rs.ct0xxcn9xq5g.ap-northeast-2.redshift.amazonaws.com'\n",
    "dbname='data_analysis_db'\n",
    "user='stella'\n",
    "password='iWntan282E5jJQc'\n",
    "port='5439'"
   ]
  },
  {
   "cell_type": "code",
   "execution_count": 3,
   "metadata": {},
   "outputs": [],
   "source": [
    "# Redshift에 연결\n",
    "conn = psycopg2.connect(\n",
    "    host=host,\n",
    "    dbname=dbname,\n",
    "    user=user,\n",
    "    password=password,\n",
    "    port=port\n",
    ")"
   ]
  },
  {
   "cell_type": "code",
   "execution_count": 4,
   "metadata": {},
   "outputs": [],
   "source": [
    "# 커서 생성\n",
    "cursor = conn.cursor()\n",
    "# SQL 쿼리 실행 (예시: frigga_sample 테이블에서 모든 데이터를 조회)\n",
    "cursor.execute(\"\"\"                          \n",
    "                    SELECT \n",
    "                        *\n",
    "                    FROM \n",
    "                        \"data_analysis_db\".\"da_schema\".\"t_frigga_broken_target\"\n",
    "                    WHERE 1=1\n",
    "                    ORDER BY device_serial ASC\n",
    "                ;\n",
    "               \"\"\")\n",
    "\n",
    "# 결과 가져오기\n",
    "rows = cursor.fetchall()\n",
    "\n",
    "# 컬럼명 가져오기\n",
    "columns = [desc[0] for desc in cursor.description]\n",
    "\n",
    "# DataFrame으로 변환\n",
    "broken = pd.DataFrame(rows, columns=columns)\n",
    "\n",
    "# 커서와 연결 종료\n",
    "cursor.close()\n",
    "conn.close()"
   ]
  },
  {
   "cell_type": "code",
   "execution_count": 5,
   "metadata": {},
   "outputs": [],
   "source": [
    "from sklearn.model_selection import train_test_split\n",
    "from sklearn.linear_model import LogisticRegression\n",
    "from sklearn.preprocessing import StandardScaler\n",
    "from sklearn.ensemble import RandomForestClassifier\n",
    "from xgboost import XGBClassifier\n",
    "from sklearn.metrics import accuracy_score, roc_auc_score, classification_report, confusion_matrix, ConfusionMatrixDisplay"
   ]
  },
  {
   "cell_type": "code",
   "execution_count": 6,
   "metadata": {},
   "outputs": [],
   "source": [
    "# 독립변수 / 종속변수 구분# 독립 변수와 종속 변수 정의\n",
    "X = broken[['duration_time', 'duration_day', 'min_temp', 'max_temp', 'mean_temp', 'std_temp', 'min_humi', 'max_humi', 'mean_humi', 'std_humi', \n",
    "                'min_acc', 'max_acc', 'mean_acc', 'std_acc', 'q1_temp', 'q3_temp', 'temp_start', 'temp_end', 'q1_humi', 'q3_humi', \n",
    "                'humi_start', 'humi_end', 'q1_acc', 'q3_acc', 'acc_start', 'acc_end', 'ta_min', 'ta_max', 'ta_mean', 'ta_std', \n",
    "                'ta_q1', 'ta_q3', 'ws1_min', 'ws1_max', 'ws1_mean', 'ws1_std', 'ws1_q1', 'ws1_q3', 'ws10_min', 'ws10_max', \n",
    "                'ws10_mean', 'ws10_std', 'ws10_q1', 'ws10_q3', 'hm_min', 'hm_max', 'hm_mean', 'hm_std', 'hm_q1', 'hm_q3', \n",
    "                'alert_temp_sum', 'alert_humi_sum', 'alert_acc_sum']]\n",
    "\n",
    "# y = df_broken['broken_yn']\n",
    "y = broken['broken_yn'].astype(int)"
   ]
  },
  {
   "cell_type": "code",
   "execution_count": 7,
   "metadata": {},
   "outputs": [
    {
     "name": "stdout",
     "output_type": "stream",
     "text": [
      "정확도: 0.9375\n",
      "ROC AUC 점수: 1.0000\n",
      "분류 보고서:\n",
      "              precision    recall  f1-score   support\n",
      "\n",
      "           0       1.00      0.92      0.96        25\n",
      "           1       0.78      1.00      0.88         7\n",
      "\n",
      "    accuracy                           0.94        32\n",
      "   macro avg       0.89      0.96      0.92        32\n",
      "weighted avg       0.95      0.94      0.94        32\n",
      "\n"
     ]
    },
    {
     "data": {
      "image/png": "[encoded data removed]",
      "text/plain": [
       "<Figure size 640x480 with 2 Axes>"
      ]
     },
     "metadata": {},
     "output_type": "display_data"
    },
    {
     "name": "stdout",
     "output_type": "stream",
     "text": [
      "    broken_yn  predicted_proba\n",
      "0           0              NaN\n",
      "1           1              NaN\n",
      "2           1              NaN\n",
      "3           0              NaN\n",
      "4           0              NaN\n",
      "..        ...              ...\n",
      "151         0              NaN\n",
      "152         0         0.033635\n",
      "153         0              NaN\n",
      "154         1              NaN\n",
      "155         0              NaN\n",
      "\n",
      "[156 rows x 2 columns]\n"
     ]
    }
   ],
   "source": [
    "# 데이터 분할 (훈련 세트와 테스트 세트)\n",
    "X_train, X_test, y_train, y_test = train_test_split(X, y, test_size=0.2, random_state=42)\n",
    "\n",
    "# Feature Scaling\n",
    "scaler = StandardScaler()\n",
    "X_train_scaled = scaler.fit_transform(X_train)  # 훈련 세트에 맞춰 스케일링\n",
    "X_test_scaled = scaler.transform(X_test)  # 테스트 세트에 동일한 스케일링 적용\n",
    "\n",
    "# 로지스틱 회귀 모델 생성\n",
    "lr_model = LogisticRegression(max_iter=1000)\n",
    "lr_model.fit(X_train_scaled, y_train)\n",
    "y_pred_lr = lr_model.predict(X_test)\n",
    "y_pred_proba = lr_model.predict_proba(X_test_scaled)[:, 1]  # 클래스 1에 대한 확률\n",
    "\n",
    "# 예측 결과 평가\n",
    "y_pred_lr = lr_model.predict(X_test_scaled)\n",
    "accuracy = accuracy_score(y_test, y_pred_lr)\n",
    "roc_auc = roc_auc_score(y_test, y_pred_proba)\n",
    "\n",
    "# 결과 출력\n",
    "print(f\"정확도: {accuracy:.4f}\")\n",
    "print(f\"ROC AUC 점수: {roc_auc:.4f}\")\n",
    "print(\"분류 보고서:\")\n",
    "print(classification_report(y_test, y_pred_lr))\n",
    "\n",
    "# Confusion Matrix 계산\n",
    "cm = confusion_matrix(y_test, y_pred_lr)\n",
    "\n",
    "# Confusion Matrix 시각화\n",
    "disp = ConfusionMatrixDisplay(confusion_matrix=cm, display_labels=lr_model.classes_)\n",
    "disp.plot(cmap=plt.cm.Blues)\n",
    "plt.title('Confusion Matrix')\n",
    "plt.show()\n",
    "\n",
    "# 예측 확률을 데이터프레임에 추가\n",
    "X_test_with_proba = X_test.copy()  # X_test의 복사본 생성\n",
    "X_test_with_proba['predicted_proba'] = y_pred_proba  # 새로운 컬럼 추가\n",
    "\n",
    "# 원래 데이터프레임에 추가 (원하는 경우)\n",
    "df_broken_prob = broken.copy()  # 원본 데이터프레임 복사\n",
    "df_broken_prob.loc[X_test.index, 'predicted_proba'] = y_pred_proba  # 예측 확률 추가\n",
    "\n",
    "# 결과 확인\n",
    "print(df_broken_prob[['broken_yn', 'predicted_proba']])"
   ]
  },
  {
   "cell_type": "markdown",
   "metadata": {},
   "source": [
    "### Dash Board 예시 만들기"
   ]
  },
  {
   "cell_type": "code",
   "execution_count": 8,
   "metadata": {},
   "outputs": [],
   "source": [
    "import dash\n",
    "from dash import dcc, html\n",
    "import plotly.graph_objects as go\n",
    "import pandas as pd\n",
    "import numpy as np"
   ]
  },
  {
   "cell_type": "code",
   "execution_count": 9,
   "metadata": {},
   "outputs": [],
   "source": [
    "# 데이터 생성\n",
    "total_items = 2000\n",
    "normal_items = 1800\n",
    "damaged_items = 200\n",
    "\n",
    "# 파손 비율 데이터\n",
    "labels = ['Normal', 'Damaged']\n",
    "values = [normal_items, damaged_items]\n",
    "\n",
    "# 로지스틱 회귀 예측 결과 (예시)\n",
    "predicted_probability = 0.65  # 예시 확률값\n",
    "\n",
    "# 온도 및 습도 데이터 생성 (2025년 01월 03일부터 2025년 02월 23일까지)\n",
    "date_range = pd.date_range(start='2025-01-03', end='2025-02-23')\n",
    "temperature_data = np.random.uniform(low=-10, high=-5, size=len(date_range) - 1).tolist()\n",
    "temperature_data.append(-12)  # 일탈 케이스 추가\n",
    "np.random.shuffle(temperature_data)  # 일탈 케이스를 랜덤하게 섞기\n",
    "humidity_data = np.random.uniform(low=30, high=70, size=len(date_range))  # 습도 데이터 생성\n",
    "temperature_df = pd.DataFrame({'Date': date_range, 'Temperature': temperature_data, 'Humidity': humidity_data})\n",
    "\n",
    "# 충격량 데이터 생성 (2025년 01월 03일부터 2025년 02월 23일까지)\n",
    "shock_data = np.random.uniform(low=0.0, high=2.0, size=len(date_range)).tolist()\n",
    "shock_data[-1] = 2.5  # 마지막 값을 일탈 케이스로 설정\n",
    "np.random.shuffle(shock_data)  # 일탈 케이스를 랜덤하게 섞기\n",
    "shock_df = pd.DataFrame({'Date': date_range, 'Shock': shock_data})\n",
    "\n",
    "\n",
    "# 기울기 데이터 생성 (예시)\n",
    "tiltx = np.random.uniform(low=-1.0, high=1.0, size=len(date_range))\n",
    "tilty = np.random.uniform(low=-1.0, high=1.0, size=len(date_range))\n",
    "tiltz = np.random.uniform(low=-1.0, high=1.0, size=len(date_range))\n",
    "\n",
    "# 기울기 데이터프레임 생성\n",
    "tilt_df = pd.DataFrame({'Date': date_range, 'TiltX': tiltx, 'TiltY': tilty, 'TiltZ': tiltz})\n",
    "\n",
    "\n",
    "# 향후 일주일치 예측값 (임의로 생성, 정상 범위로 설정)\n",
    "future_dates = pd.date_range(start='2025-02-24', periods=7)\n",
    "future_temperatures = np.random.uniform(low=-10, high=-5, size=len(future_dates))\n",
    "future_humidity = np.random.uniform(low=30, high=70, size=len(future_dates))\n",
    "future_temperature_df = pd.DataFrame({'Date': future_dates, 'Temperature': future_temperatures, 'Humidity': future_humidity})\n",
    "\n",
    "# 온도 일탈 알림 생성\n",
    "anomalies = temperature_df[(temperature_df['Temperature'] < -10) | (temperature_df['Temperature'] > -5)]\n",
    "anomaly_alert_dates = anomalies['Date'].tolist()  # 일탈 발생 날짜 리스트\n",
    "\n",
    "# 충격량 일탈 알림 생성\n",
    "shock_anomalies = shock_df[shock_df['Shock'] > 2.0]\n",
    "shock_anomaly_alert_dates = shock_anomalies['Date'].tolist()  # 일탈 발생 날짜 리스트\n",
    "\n",
    "damage_rate = (damaged_items / total_items) * 100  # 파손 비율 계산"
   ]
  },
  {
   "cell_type": "code",
   "execution_count": 10,
   "metadata": {},
   "outputs": [
    {
     "data": {
      "text/html": [
       "\n",
       "        <iframe\n",
       "            width=\"100%\"\n",
       "            height=\"650\"\n",
       "            src=\"http://127.0.0.1:8050/\"\n",
       "            frameborder=\"0\"\n",
       "            allowfullscreen\n",
       "            \n",
       "        ></iframe>\n",
       "        "
      ],
      "text/plain": [
       "<IPython.lib.display.IFrame at 0x15defba00>"
      ]
     },
     "metadata": {},
     "output_type": "display_data"
    }
   ],
   "source": [
    "# Dash 앱 초기화\n",
    "app = dash.Dash(__name__)\n",
    "\n",
    "###### GAPMINDER\n",
    "# Gapminder 데이터 로드\n",
    "df = px.data.gapminder().query(\"year == 2007\")\n",
    "\n",
    "# 특정 항구의 위험 표시를 위한 데이터 생성\n",
    "ports_data = {\n",
    "    'country': ['South Africa', 'Mexico'],\n",
    "    'iso_alpha': ['ZAF', 'MEX'],\n",
    "    'lat': [-30.5595, 23.6345],  # 남아프리카 공화국과 멕시코의 위도\n",
    "    'lon': [22.9375, -102.5528],  # 남아프리카 공화국과 멕시코의 경도\n",
    "    'risk': [1, 1]  # 위험 표시를 위한 값\n",
    "}\n",
    "\n",
    "ports_df = pd.DataFrame(ports_data)\n",
    "\n",
    "# 전세계 지도 시각화\n",
    "fig = px.scatter_geo(df, locations=\"iso_alpha\",\n",
    "                     color=\"continent\",  # 마커 색상 설정\n",
    "                     hover_name=\"country\",  # 호버 정보에 추가할 열\n",
    "                     size=\"pop\",  # 마커 크기\n",
    "                     projection=\"natural earth\",\n",
    "                     title=\"전세계 물류 트래킹 - 위치별 파손 발생 위험 예측 서비스\")\n",
    "\n",
    "# 위험 항구 표시\n",
    "fig.add_trace(go.Scattergeo(\n",
    "    lon=ports_df['lon'],\n",
    "    lat=ports_df['lat'],\n",
    "    text=ports_df['country'],\n",
    "    mode='markers+text',\n",
    "    marker=dict(color='red', size=10, symbol='circle'),\n",
    "    name='위험 항구'\n",
    "))\n",
    "\n",
    "# 임의의 경로 이동 표시 (예: 남아프리카에서 멕시코로 이동)\n",
    "fig.add_trace(go.Scattergeo(\n",
    "    lon=[ports_df['lon'][0], ports_df['lon'][1]],  # 남아프리카 -> 멕시코\n",
    "    lat=[ports_df['lat'][0], ports_df['lat'][1]],\n",
    "    mode='lines',\n",
    "    line=dict(width=2, color='blue'),\n",
    "    name='이동 경로'\n",
    "))\n",
    "\n",
    "\n",
    "# 화물의 GPS 경로 데이터 생성 (예시)\n",
    "gps_data = {\n",
    "    'latitude': [37.5665, 37.5700, 37.5750, 37.5800, 37.5850, 37.5900],\n",
    "    'longitude': [126.9780, 126.9800, 126.9820, 126.9850, 126.9900, 126.9950],\n",
    "    'alert': [0, 0, 1, 0, 1, 0]  # 1은 경고 구간, 0은 일반 구간\n",
    "}\n",
    "\n",
    "gps_df = pd.DataFrame(gps_data)\n",
    "\n",
    "# Geofencing 구역 설정 (예시: 특정 경계)\n",
    "geofence_lat = [37.5700, 37.5800, 37.5800, 37.5700, 37.5700]\n",
    "geofence_lon = [126.9780, 126.9780, 126.9900, 126.9900, 126.9780]\n",
    "\n",
    "\n",
    "###### GEOFENCING\n",
    "# 지도 시각화\n",
    "fig_geo = go.Figure()\n",
    "\n",
    "# Geofencing 구역 추가\n",
    "fig_geo.add_trace(go.Scattergeo(\n",
    "    lon=geofence_lon,\n",
    "    lat=geofence_lat,\n",
    "    mode='lines',\n",
    "    line=dict(color='red', width=2),\n",
    "    name='Geofence Area'\n",
    "))\n",
    "\n",
    "# 화물 경로 추가\n",
    "fig_geo.add_trace(go.Scattergeo(\n",
    "    lon=gps_df['longitude'],\n",
    "    lat=gps_df['latitude'],\n",
    "    mode='markers+lines',\n",
    "    marker=dict(size=8, color='blue'),\n",
    "    name='Cargo Path'\n",
    "))\n",
    "\n",
    "# 경고 구간 표시\n",
    "alert_points = gps_df[gps_df['alert'] == 1]\n",
    "fig_geo.add_trace(go.Scattergeo(\n",
    "    lon=alert_points['longitude'],\n",
    "    lat=alert_points['latitude'],\n",
    "    mode='markers',\n",
    "    marker=dict(size=10, color='red', symbol='x'),\n",
    "    name='Alert Points'\n",
    "))\n",
    "\n",
    "# 레이아웃 설정\n",
    "fig_geo.update_layout(\n",
    "    title='Geofencing기반 구간 알림 서비스',\n",
    "    geo=dict(\n",
    "        scope='asia',\n",
    "        showland=True,\n",
    "        landcolor='lightgray',\n",
    "        countrycolor='white'\n",
    "    )\n",
    ")\n",
    "\n",
    "# 기울기 일탈 알림 생성\n",
    "# 특정 한 케이스를 빨간색으로 표시 (예: 첫 번째 데이터 포인트)\n",
    "outlier_index = 0  # 일탈 케이스의 인덱스\n",
    "colors = ['red' if i == outlier_index else 'blue' for i in range(len(tilt_df))]  # 색상 리스트 생성\n",
    "\n",
    "\n",
    "## 충격량 빈도\n",
    "# 데이터프레임 생성\n",
    "### 충격량 막대 빈도 시각화\n",
    "# 날짜 범위 생성 (2025-01-03부터 2025-02-23까지)\n",
    "dt_rg = pd.date_range(start='2025-01-03', end='2025-02-23', freq='D')\n",
    "\n",
    "# 각 날짜별 샘플 수 (400~600개 사이의 랜덤 수 생성)\n",
    "np.random.seed(42)\n",
    "samples_per_day = np.random.randint(150, 601, size=len(dt_rg))\n",
    "\n",
    "# 각 날짜별 충격량 생성\n",
    "shock_values = []\n",
    "for n_samples in samples_per_day:\n",
    "    # 안전(0~0.7), 주의(0.7~1.3), 위험(1.3~2.0) 비율로 충격량 분포\n",
    "    safety = np.random.uniform(0, 0.7, int(n_samples * 0.8))  # 80% 안전\n",
    "    caution = np.random.uniform(0.7, 1.5, int(n_samples * 0.19))  # 15% 주의\n",
    "    danger = np.random.uniform(1.5, 2.0, int(n_samples * 0.01))  # 5% 위험\n",
    "    shock_values.extend(np.concatenate([safety, caution, danger]))\n",
    "\n",
    "# 각 날짜에 대해 충격량 상태 할당\n",
    "date_list = []\n",
    "condition_list = []\n",
    "\n",
    "# 충격량 상태를 각 날짜에 매핑\n",
    "for date, n_samples in zip(dt_rg, samples_per_day):\n",
    "    for _ in range(n_samples):\n",
    "        date_list.append(date)\n",
    "        condition_list.append('안전' if np.random.uniform(0, 2) < 0.7 else '주의' if np.random.uniform(0, 2) < 1.5 else '위험')\n",
    "\n",
    "\n",
    "bar_shock = pd.DataFrame({\n",
    "    'date': date_list,\n",
    "    'condition': condition_list\n",
    "})\n",
    "               \n",
    "# 각 날짜별 상태 빈도 계산\n",
    "condition_counts = bar_shock.groupby(['date', 'condition']).size().unstack(fill_value=0)\n",
    "# 시각화: 각 날짜별 상태 빈도 막대 그래프\n",
    "fig_bar = go.Figure()\n",
    "\n",
    "# 각 상태에 대해 트레이스를 추가\n",
    "for condition in ['안전', '주의', '위험']:\n",
    "    fig_bar.add_trace(go.Bar(\n",
    "        x=condition_counts.index,  # 날짜\n",
    "        y=condition_counts[condition],  # 상태 빈도\n",
    "        name=condition,\n",
    "        marker_color='green' if condition == '안전' else ('yellow' if condition == '주의' else 'red')\n",
    "    ))\n",
    "\n",
    "# 레이아웃 설정\n",
    "fig_bar.update_layout(\n",
    "    title='일자별 충격량 상태 빈도',\n",
    "    xaxis_title='날짜',\n",
    "    yaxis_title='빈도',\n",
    "    barmode='stack',  # 스택형 그래프\n",
    "    xaxis=dict(tickangle=-45),  # 날짜 레이블 각도 조정\n",
    ")\n",
    "        \n",
    "\n",
    "position = {\n",
    "    \"Place\": [\"부산항\"],\n",
    "    \"Latitude\": [35.1035355],\n",
    "    \"Longitude\": [129.0423688]\n",
    "}\n",
    "\n",
    "# 데이터 프레임 생성\n",
    "ps = pd.DataFrame(position)\n",
    "\n",
    "# Plotly Express를 사용하여 지도 생성\n",
    "fig_position = px.scatter_mapbox(\n",
    "    ps,  # 데이터 프레임 사용\n",
    "    lat=\"Latitude\", \n",
    "    lon=\"Longitude\", \n",
    "    zoom=15,  # 지도 확대 레벨\n",
    "    height=300,  # 지도 높이\n",
    "    width=500,  # 지도 너비\n",
    "    hover_name=\"Place\",  # 호버 텍스트\n",
    ")\n",
    "\n",
    "# Mapbox 스타일 설정\n",
    "fig_position.update_layout(mapbox_style=\"open-street-map\")\n",
    "\n",
    "\n",
    "\n",
    "\n",
    "##########################################################################################################################################################################\n",
    "# 대시보드 레이아웃 설정\n",
    "app.layout = html.Div([\n",
    "    html.H1(\"데이터 프로덕트 AI기반 내러티브 분석 시각화\"),\n",
    "      \n",
    "    # TEXT 설명\n",
    "    html.Div([\n",
    "        html.H2(\"ML기반 모델링 산출물 시각화 예시\"),\n",
    "        html.P(\"서비스 목표: AI 기반 데이터 프로덕트를 통해 물류 운송 리스크를 감지하고, 예측 및 대응을 위한 의사결정 서비스를 제공\", style={'font-size': '20px'}),\n",
    "        html.P(\"서비스 내용: 시나리오에 따른 산출물을 시각화 예시로 나타내고, ML기반의 서비스 정보 제공\", style={'font-size': '20px'})\n",
    "    ], style={'margin-top': '20px', 'padding': '20px', 'border': '1px solid #ccc', 'border-radius': '5px'}\n",
    "    ),\n",
    "    \n",
    "    \n",
    "    ##########################################################################################################################################################################  \n",
    "\n",
    "    html.Div([\n",
    "        html.H2(\"B/L번호: BY2103002\"),\n",
    "        html.H3(\"디바이스명: T057A055\"),\n",
    "        html.P(\"해당 디바이스로부터 실시간으로 정보를 수집하여 서비스를 제공합니다.\", style={'font-size': '20px'}),\n",
    "        html.P(\"디바이스가 여러개인 경우.\", style={'font-size': '20px'})\n",
    "    ], style={\n",
    "            'margin-top': '20px',\n",
    "            'padding': '20px',\n",
    "            'border': '1px solid #ccc',\n",
    "            'border-radius': '5px',\n",
    "            'text-align': 'center',\n",
    "            'width': '48%'  # 왼쪽 영역 너비 설정\n",
    "        }\n",
    "    ),\n",
    "\n",
    "    ##########################################################################################################################################################################     \n",
    "    # 게이지 차트\n",
    "    dcc.Graph(\n",
    "        id='gauge-chart',\n",
    "        figure=go.Figure(go.Indicator(\n",
    "            mode=\"gauge+number\",\n",
    "            value=predicted_probability,\n",
    "            title={'text': \"실시간 파손 예측 확률\"},\n",
    "            gauge={\n",
    "                'axis': {'range': [0, 1]},\n",
    "                'bar': {'color': \"blue\"},\n",
    "                'steps': [\n",
    "                    {'range': [0, 0.3], 'color': \"green\"},  # 안전\n",
    "                    {'range': [0.3, 0.7], 'color': \"yellow\"},  # 주의\n",
    "                    {'range': [0.7, 1], 'color': \"red\"}  # 위험\n",
    "                ],\n",
    "                'threshold': {\n",
    "                    'line': {'color': \"red\", 'width': 4},\n",
    "                    'thickness': 0.75,\n",
    "                    'value': 0.7  # 위험 경계\n",
    "                }\n",
    "            }\n",
    "        )),\n",
    "        # style={'width': '48%', 'display': 'inline-block'}  # 그래프 48% 크기, 가로로 나란히    \n",
    "        style={\n",
    "            'width': '48%',\n",
    "            'display': 'inline-block',  # Flexbox를 사용하여 레이아웃 설정\n",
    "            'justify-content': 'center',  # 가로 가운데 정렬\n",
    "            'align-items': 'center'  # 세로 가운데 정렬\n",
    "            }\n",
    "        ),   \n",
    "        \n",
    "    ##########################################################################################################################################################################    \n",
    "\n",
    "    ##########################################################################################################################################################################  \n",
    "    \n",
    "    # 전세계 물류 트래킹 지도\n",
    "    dcc.Graph(\n",
    "        id='world-map',\n",
    "        figure=fig  # 위에서 생성한 fig 객체를 여기에 할당\n",
    "    ),  \n",
    " \n",
    "    dcc.Graph(\n",
    "        id='geofencing-map',\n",
    "        figure=fig_geo\n",
    "    ),\n",
    "    \n",
    "    # 온도 및 습도 라인 차트\n",
    "    html.Div([\n",
    "        dcc.Graph(\n",
    "            id='temperature-line-chart',\n",
    "            figure=go.Figure()\n",
    "                .add_trace(go.Scatter(\n",
    "                    x=temperature_df['Date'], \n",
    "                    y=temperature_df['Temperature'], \n",
    "                    mode='lines+markers', \n",
    "                    name='과거 온도',\n",
    "                    marker=dict(color='blue')\n",
    "                ))\n",
    "                .add_trace(go.Scatter(\n",
    "                    x=future_temperature_df['Date'], \n",
    "                    y=future_temperature_df['Temperature'], \n",
    "                    mode='lines+markers', \n",
    "                    name='예측 온도', \n",
    "                    line=dict(dash='dash'),\n",
    "                    marker=dict(color='orange')\n",
    "                ))\n",
    "                .add_trace(go.Scatter(\n",
    "                    x=anomaly_alert_dates, \n",
    "                    y=[-12] * len(anomaly_alert_dates),  # 일탈 온도\n",
    "                    mode='markers+text', \n",
    "                    name='온도 일탈', \n",
    "                    marker=dict(color='red', size=10, symbol='x'),\n",
    "                    text=['온도 일탈'] * len(anomaly_alert_dates),  # 팝업 텍스트\n",
    "                    textposition='top center'\n",
    "                ))\n",
    "                .update_layout(title='디바이스 온도 측정(Unit/건)', xaxis_title='날짜', yaxis_title='온도 (°C)')\n",
    "        ),\n",
    "        \n",
    "        dcc.Graph(\n",
    "            id='humidity-line-chart',\n",
    "            figure=go.Figure()\n",
    "                .add_trace(go.Scatter(\n",
    "                    x=temperature_df['Date'], \n",
    "                    y=temperature_df['Humidity'], \n",
    "                    mode='lines+markers', \n",
    "                    name='과거 습도',\n",
    "                    marker=dict(color='green')\n",
    "                ))\n",
    "                .add_trace(go.Scatter(\n",
    "                    x=future_temperature_df['Date'], \n",
    "                    y=future_humidity, \n",
    "                    mode='lines+markers', \n",
    "                    name='예측 습도', \n",
    "                    line=dict(dash='dash'),\n",
    "                    marker=dict(color='lightgreen')\n",
    "                ))\n",
    "                .update_layout(title='디바이스 습도 측정(Unit/건)', xaxis_title='날짜', yaxis_title='습도 (%)')\n",
    "        ),\n",
    "        \n",
    "        # 충격량 라인 차트 추가\n",
    "        dcc.Graph(\n",
    "            id='shock-line-chart',\n",
    "            figure=go.Figure()\n",
    "                .add_trace(go.Scatter(\n",
    "                    x=shock_df['Date'], \n",
    "                    y=shock_df['Shock'], \n",
    "                    mode='lines+markers', \n",
    "                    name='충격량',\n",
    "                    marker=dict(color='purple')\n",
    "                ))\n",
    "                .add_trace(go.Scatter(\n",
    "                    x=shock_anomaly_alert_dates, \n",
    "                    y=[2.5] * len(shock_anomaly_alert_dates),  # 일탈 충격량\n",
    "                    mode='markers+text', \n",
    "                    name='충격량 일탈', \n",
    "                    marker=dict(color='red', size=10, symbol='x'),\n",
    "                    text=['충격량 일탈'] * len(shock_anomaly_alert_dates),  # 팝업 텍스트\n",
    "                    textposition='top center'\n",
    "                ))\n",
    "                .add_trace(go.Scatter(\n",
    "                    x=shock_df['Date'][(shock_df['Shock'] >= 1.5) & (shock_df['Shock'] <= 2.0)], \n",
    "                    y=shock_df['Shock'][(shock_df['Shock'] >= 1.5) & (shock_df['Shock'] <= 2.0)], \n",
    "                    mode='markers', \n",
    "                    name='파손 발생 위험 구간', \n",
    "                    marker=dict(color='orange', size=8, symbol='circle'),\n",
    "                    text=['위험 구간'] * len(shock_df[(shock_df['Shock'] >= 1.5) & (shock_df['Shock'] <= 2.0)]),  # 팝업 텍스트\n",
    "                    textposition='top center'\n",
    "                ))\n",
    "                .update_layout(title='디바이스 충격량 측정(Unit/건)', xaxis_title='날짜', yaxis_title='충격량')\n",
    "        ),\n",
    "        \n",
    "        ### 충격량 막대 빈도 그래프\n",
    "        dcc.Graph(\n",
    "            id='shock-frequency-bar-chart',\n",
    "            figure=fig_bar\n",
    "        ),\n",
    "        \n",
    "        # 기울기 정보 시각화 추가\n",
    "        dcc.Graph(\n",
    "            id='tilt-3d-chart',\n",
    "            figure=go.Figure(data=[\n",
    "                go.Scatter3d(\n",
    "                    x=tilt_df['TiltX'],\n",
    "                    y=tilt_df['TiltY'],\n",
    "                    z=tilt_df['TiltZ'],\n",
    "                    mode='markers',\n",
    "                    marker=dict(\n",
    "                        size=5,\n",
    "                        color=colors,  # 색상 리스트 사용\n",
    "                        opacity=0.8\n",
    "                    ),\n",
    "                    text=tilt_df['Date'].dt.strftime('%Y-%m-%d'),  # 날짜 표시\n",
    "                    hoverinfo='text'\n",
    "                )\n",
    "            ]).update_layout(\n",
    "                title='디바이스 기울기 정보 시각화(Unit/건)', \n",
    "                scene=dict(\n",
    "                    xaxis_title='TiltX', \n",
    "                    yaxis_title='TiltY', \n",
    "                    zaxis_title='TiltZ'\n",
    "                )\n",
    "            ),\n",
    "            style={'height': '600px', 'width': '100%', 'display': 'flex', 'justify-content': 'center'}\n",
    "        )\n",
    "    ], style={'display': 'flex', 'flex-direction': 'column', 'gap': '20px', 'margin-top': '20px', 'padding': '20px'})\n",
    "])\n",
    "\n",
    "# 서버 실행\n",
    "if __name__ == '__main__':\n",
    "    app.run_server(debug=True)"
   ]
  },
  {
   "cell_type": "code",
   "execution_count": 24,
   "metadata": {},
   "outputs": [
    {
     "name": "stdout",
     "output_type": "stream",
     "text": [
      "PDF 파일이 생성되었습니다.\n"
     ]
    }
   ],
   "source": [
    "import requests\n",
    "import pdfkit\n",
    "\n",
    "# 웹 페이지 URL\n",
    "url = 'http://127.0.0.1:8050/'\n",
    "\n",
    "# 출력될 PDF 파일 경로\n",
    "output_pdf_path = 'dashboard.pdf'\n",
    "\n",
    "# pdfkit 설정 (wkhtmltopdf 경로가 필요한 경우 설정)\n",
    "config = pdfkit.configuration(wkhtmltopdf='/usr/local/bin/wkhtmltopdf')\n",
    "\n",
    "# URL을 PDF로 변환\n",
    "pdfkit.from_url(url, output_pdf_path, configuration=config)\n",
    "\n",
    "print(\"PDF 파일이 생성되었습니다.\")"
   ]
  },
  {
   "cell_type": "markdown",
   "metadata": {},
   "source": [
    "## 기울기 3D 시각화"
   ]
  },
  {
   "cell_type": "code",
   "execution_count": 11,
   "metadata": {},
   "outputs": [],
   "source": [
    "import matplotlib.pyplot as plt\n",
    "from mpl_toolkits.mplot3d import Axes3D\n",
    "import numpy as np"
   ]
  },
  {
   "cell_type": "code",
   "execution_count": 25,
   "metadata": {},
   "outputs": [
    {
     "data": {
      "application/vnd.plotly.v1+json": {
       "config": {
        "plotlyServerURL": "https://plot.ly"
       },
       "data": [
        {
         "alphahull": 0,
         "color": "blue",
         "opacity": 0.3,
         "type": "mesh3d",
         "x": {
          "bdata": "AAAAAAAA8L8AAAAAAADwPwAAAAAAAPA/AAAAAAAA8L8AAAAAAADwvwAAAAAAAPA/AAAAAAAA8D8AAAAAAADwvw==",
          "dtype": "f8"
         },
         "y": {
          "bdata": "AAAAAAAA+L8AAAAAAAD4vwAAAAAAAPg/AAAAAAAA+D8AAAAAAAD4vwAAAAAAAPi/AAAAAAAA+D8AAAAAAAD4Pw==",
          "dtype": "f8"
         },
         "z": {
          "bdata": "AAAAAAAAAMAAAAAAAAAAwAAAAAAAAADAAAAAAAAAAMAAAAAAAAAAQAAAAAAAAABAAAAAAAAAAEAAAAAAAAAAQA==",
          "dtype": "f8"
         }
        },
        {
         "alphahull": 0,
         "color": "grey",
         "opacity": 0.5,
         "type": "mesh3d",
         "x": {
          "bdata": "AAAAAAAA4D8AAAAAAADwPwAAAAAAAPA/AAAAAAAA4D8AAAAAAADgPwAAAAAAAPA/AAAAAAAA8D8AAAAAAADgPw==",
          "dtype": "f8"
         },
         "y": {
          "bdata": "AAAAAAAA8D8AAAAAAADwPwAAAAAAAPg/AAAAAAAA+D8AAAAAAADwPwAAAAAAAPA/AAAAAAAA+D8AAAAAAAD4Pw==",
          "dtype": "f8"
         },
         "z": {
          "bdata": "AAAAAAAA+D8AAAAAAAD4PwAAAAAAAPg/AAAAAAAA+D8AAAAAAAAAQAAAAAAAAABAAAAAAAAAAEAAAAAAAAAAQA==",
          "dtype": "f8"
         }
        }
       ],
       "layout": {
        "scene": {
         "xaxis": {
          "range": [
           -2,
           2
          ],
          "title": {
           "text": "TiltX"
          }
         },
         "yaxis": {
          "range": [
           -2.5,
           2.5
          ],
          "title": {
           "text": "TiltY"
          }
         },
         "zaxis": {
          "range": [
           -3,
           3
          ],
          "title": {
           "text": "TiltZ"
          }
         }
        },
        "template": {
         "data": {
          "bar": [
           {
            "error_x": {
             "color": "#2a3f5f"
            },
            "error_y": {
             "color": "#2a3f5f"
            },
            "marker": {
             "line": {
              "color": "#E5ECF6",
              "width": 0.5
             },
             "pattern": {
              "fillmode": "overlay",
              "size": 10,
              "solidity": 0.2
             }
            },
            "type": "bar"
           }
          ],
          "barpolar": [
           {
            "marker": {
             "line": {
              "color": "#E5ECF6",
              "width": 0.5
             },
             "pattern": {
              "fillmode": "overlay",
              "size": 10,
              "solidity": 0.2
             }
            },
            "type": "barpolar"
           }
          ],
          "carpet": [
           {
            "aaxis": {
             "endlinecolor": "#2a3f5f",
             "gridcolor": "white",
             "linecolor": "white",
             "minorgridcolor": "white",
             "startlinecolor": "#2a3f5f"
            },
            "baxis": {
             "endlinecolor": "#2a3f5f",
             "gridcolor": "white",
             "linecolor": "white",
             "minorgridcolor": "white",
             "startlinecolor": "#2a3f5f"
            },
            "type": "carpet"
           }
          ],
          "choropleth": [
           {
            "colorbar": {
             "outlinewidth": 0,
             "ticks": ""
            },
            "type": "choropleth"
           }
          ],
          "contour": [
           {
            "colorbar": {
             "outlinewidth": 0,
             "ticks": ""
            },
            "colorscale": [
             [
              0,
              "#0d0887"
             ],
             [
              0.1111111111111111,
              "#46039f"
             ],
             [
              0.2222222222222222,
              "#7201a8"
             ],
             [
              0.3333333333333333,
              "#9c179e"
             ],
             [
              0.4444444444444444,
              "#bd3786"
             ],
             [
              0.5555555555555556,
              "#d8576b"
             ],
             [
              0.6666666666666666,
              "#ed7953"
             ],
             [
              0.7777777777777778,
              "#fb9f3a"
             ],
             [
              0.8888888888888888,
              "#fdca26"
             ],
             [
              1,
              "#f0f921"
             ]
            ],
            "type": "contour"
           }
          ],
          "contourcarpet": [
           {
            "colorbar": {
             "outlinewidth": 0,
             "ticks": ""
            },
            "type": "contourcarpet"
           }
          ],
          "heatmap": [
           {
            "colorbar": {
             "outlinewidth": 0,
             "ticks": ""
            },
            "colorscale": [
             [
              0,
              "#0d0887"
             ],
             [
              0.1111111111111111,
              "#46039f"
             ],
             [
              0.2222222222222222,
              "#7201a8"
             ],
             [
              0.3333333333333333,
              "#9c179e"
             ],
             [
              0.4444444444444444,
              "#bd3786"
             ],
             [
              0.5555555555555556,
              "#d8576b"
             ],
             [
              0.6666666666666666,
              "#ed7953"
             ],
             [
              0.7777777777777778,
              "#fb9f3a"
             ],
             [
              0.8888888888888888,
              "#fdca26"
             ],
             [
              1,
              "#f0f921"
             ]
            ],
            "type": "heatmap"
           }
          ],
          "histogram": [
           {
            "marker": {
             "pattern": {
              "fillmode": "overlay",
              "size": 10,
              "solidity": 0.2
             }
            },
            "type": "histogram"
           }
          ],
          "histogram2d": [
           {
            "colorbar": {
             "outlinewidth": 0,
             "ticks": ""
            },
            "colorscale": [
             [
              0,
              "#0d0887"
             ],
             [
              0.1111111111111111,
              "#46039f"
             ],
             [
              0.2222222222222222,
              "#7201a8"
             ],
             [
              0.3333333333333333,
              "#9c179e"
             ],
             [
              0.4444444444444444,
              "#bd3786"
             ],
             [
              0.5555555555555556,
              "#d8576b"
             ],
             [
              0.6666666666666666,
              "#ed7953"
             ],
             [
              0.7777777777777778,
              "#fb9f3a"
             ],
             [
              0.8888888888888888,
              "#fdca26"
             ],
             [
              1,
              "#f0f921"
             ]
            ],
            "type": "histogram2d"
           }
          ],
          "histogram2dcontour": [
           {
            "colorbar": {
             "outlinewidth": 0,
             "ticks": ""
            },
            "colorscale": [
             [
              0,
              "#0d0887"
             ],
             [
              0.1111111111111111,
              "#46039f"
             ],
             [
              0.2222222222222222,
              "#7201a8"
             ],
             [
              0.3333333333333333,
              "#9c179e"
             ],
             [
              0.4444444444444444,
              "#bd3786"
             ],
             [
              0.5555555555555556,
              "#d8576b"
             ],
             [
              0.6666666666666666,
              "#ed7953"
             ],
             [
              0.7777777777777778,
              "#fb9f3a"
             ],
             [
              0.8888888888888888,
              "#fdca26"
             ],
             [
              1,
              "#f0f921"
             ]
            ],
            "type": "histogram2dcontour"
           }
          ],
          "mesh3d": [
           {
            "colorbar": {
             "outlinewidth": 0,
             "ticks": ""
            },
            "type": "mesh3d"
           }
          ],
          "parcoords": [
           {
            "line": {
             "colorbar": {
              "outlinewidth": 0,
              "ticks": ""
             }
            },
            "type": "parcoords"
           }
          ],
          "pie": [
           {
            "automargin": true,
            "type": "pie"
           }
          ],
          "scatter": [
           {
            "fillpattern": {
             "fillmode": "overlay",
             "size": 10,
             "solidity": 0.2
            },
            "type": "scatter"
           }
          ],
          "scatter3d": [
           {
            "line": {
             "colorbar": {
              "outlinewidth": 0,
              "ticks": ""
             }
            },
            "marker": {
             "colorbar": {
              "outlinewidth": 0,
              "ticks": ""
             }
            },
            "type": "scatter3d"
           }
          ],
          "scattercarpet": [
           {
            "marker": {
             "colorbar": {
              "outlinewidth": 0,
              "ticks": ""
             }
            },
            "type": "scattercarpet"
           }
          ],
          "scattergeo": [
           {
            "marker": {
             "colorbar": {
              "outlinewidth": 0,
              "ticks": ""
             }
            },
            "type": "scattergeo"
           }
          ],
          "scattergl": [
           {
            "marker": {
             "colorbar": {
              "outlinewidth": 0,
              "ticks": ""
             }
            },
            "type": "scattergl"
           }
          ],
          "scattermap": [
           {
            "marker": {
             "colorbar": {
              "outlinewidth": 0,
              "ticks": ""
             }
            },
            "type": "scattermap"
           }
          ],
          "scattermapbox": [
           {
            "marker": {
             "colorbar": {
              "outlinewidth": 0,
              "ticks": ""
             }
            },
            "type": "scattermapbox"
           }
          ],
          "scatterpolar": [
           {
            "marker": {
             "colorbar": {
              "outlinewidth": 0,
              "ticks": ""
             }
            },
            "type": "scatterpolar"
           }
          ],
          "scatterpolargl": [
           {
            "marker": {
             "colorbar": {
              "outlinewidth": 0,
              "ticks": ""
             }
            },
            "type": "scatterpolargl"
           }
          ],
          "scatterternary": [
           {
            "marker": {
             "colorbar": {
              "outlinewidth": 0,
              "ticks": ""
             }
            },
            "type": "scatterternary"
           }
          ],
          "surface": [
           {
            "colorbar": {
             "outlinewidth": 0,
             "ticks": ""
            },
            "colorscale": [
             [
              0,
              "#0d0887"
             ],
             [
              0.1111111111111111,
              "#46039f"
             ],
             [
              0.2222222222222222,
              "#7201a8"
             ],
             [
              0.3333333333333333,
              "#9c179e"
             ],
             [
              0.4444444444444444,
              "#bd3786"
             ],
             [
              0.5555555555555556,
              "#d8576b"
             ],
             [
              0.6666666666666666,
              "#ed7953"
             ],
             [
              0.7777777777777778,
              "#fb9f3a"
             ],
             [
              0.8888888888888888,
              "#fdca26"
             ],
             [
              1,
              "#f0f921"
             ]
            ],
            "type": "surface"
           }
          ],
          "table": [
           {
            "cells": {
             "fill": {
              "color": "#EBF0F8"
             },
             "line": {
              "color": "white"
             }
            },
            "header": {
             "fill": {
              "color": "#C8D4E3"
             },
             "line": {
              "color": "white"
             }
            },
            "type": "table"
           }
          ]
         },
         "layout": {
          "annotationdefaults": {
           "arrowcolor": "#2a3f5f",
           "arrowhead": 0,
           "arrowwidth": 1
          },
          "autotypenumbers": "strict",
          "coloraxis": {
           "colorbar": {
            "outlinewidth": 0,
            "ticks": ""
           }
          },
          "colorscale": {
           "diverging": [
            [
             0,
             "#8e0152"
            ],
            [
             0.1,
             "#c51b7d"
            ],
            [
             0.2,
             "#de77ae"
            ],
            [
             0.3,
             "#f1b6da"
            ],
            [
             0.4,
             "#fde0ef"
            ],
            [
             0.5,
             "#f7f7f7"
            ],
            [
             0.6,
             "#e6f5d0"
            ],
            [
             0.7,
             "#b8e186"
            ],
            [
             0.8,
             "#7fbc41"
            ],
            [
             0.9,
             "#4d9221"
            ],
            [
             1,
             "#276419"
            ]
           ],
           "sequential": [
            [
             0,
             "#0d0887"
            ],
            [
             0.1111111111111111,
             "#46039f"
            ],
            [
             0.2222222222222222,
             "#7201a8"
            ],
            [
             0.3333333333333333,
             "#9c179e"
            ],
            [
             0.4444444444444444,
             "#bd3786"
            ],
            [
             0.5555555555555556,
             "#d8576b"
            ],
            [
             0.6666666666666666,
             "#ed7953"
            ],
            [
             0.7777777777777778,
             "#fb9f3a"
            ],
            [
             0.8888888888888888,
             "#fdca26"
            ],
            [
             1,
             "#f0f921"
            ]
           ],
           "sequentialminus": [
            [
             0,
             "#0d0887"
            ],
            [
             0.1111111111111111,
             "#46039f"
            ],
            [
             0.2222222222222222,
             "#7201a8"
            ],
            [
             0.3333333333333333,
             "#9c179e"
            ],
            [
             0.4444444444444444,
             "#bd3786"
            ],
            [
             0.5555555555555556,
             "#d8576b"
            ],
            [
             0.6666666666666666,
             "#ed7953"
            ],
            [
             0.7777777777777778,
             "#fb9f3a"
            ],
            [
             0.8888888888888888,
             "#fdca26"
            ],
            [
             1,
             "#f0f921"
            ]
           ]
          },
          "colorway": [
           "#636efa",
           "#EF553B",
           "#00cc96",
           "#ab63fa",
           "#FFA15A",
           "#19d3f3",
           "#FF6692",
           "#B6E880",
           "#FF97FF",
           "#FECB52"
          ],
          "font": {
           "color": "#2a3f5f"
          },
          "geo": {
           "bgcolor": "white",
           "lakecolor": "white",
           "landcolor": "#E5ECF6",
           "showlakes": true,
           "showland": true,
           "subunitcolor": "white"
          },
          "hoverlabel": {
           "align": "left"
          },
          "hovermode": "closest",
          "mapbox": {
           "style": "light"
          },
          "paper_bgcolor": "white",
          "plot_bgcolor": "#E5ECF6",
          "polar": {
           "angularaxis": {
            "gridcolor": "white",
            "linecolor": "white",
            "ticks": ""
           },
           "bgcolor": "#E5ECF6",
           "radialaxis": {
            "gridcolor": "white",
            "linecolor": "white",
            "ticks": ""
           }
          },
          "scene": {
           "xaxis": {
            "backgroundcolor": "#E5ECF6",
            "gridcolor": "white",
            "gridwidth": 2,
            "linecolor": "white",
            "showbackground": true,
            "ticks": "",
            "zerolinecolor": "white"
           },
           "yaxis": {
            "backgroundcolor": "#E5ECF6",
            "gridcolor": "white",
            "gridwidth": 2,
            "linecolor": "white",
            "showbackground": true,
            "ticks": "",
            "zerolinecolor": "white"
           },
           "zaxis": {
            "backgroundcolor": "#E5ECF6",
            "gridcolor": "white",
            "gridwidth": 2,
            "linecolor": "white",
            "showbackground": true,
            "ticks": "",
            "zerolinecolor": "white"
           }
          },
          "shapedefaults": {
           "line": {
            "color": "#2a3f5f"
           }
          },
          "ternary": {
           "aaxis": {
            "gridcolor": "white",
            "linecolor": "white",
            "ticks": ""
           },
           "baxis": {
            "gridcolor": "white",
            "linecolor": "white",
            "ticks": ""
           },
           "bgcolor": "#E5ECF6",
           "caxis": {
            "gridcolor": "white",
            "linecolor": "white",
            "ticks": ""
           }
          },
          "title": {
           "x": 0.05
          },
          "xaxis": {
           "automargin": true,
           "gridcolor": "white",
           "linecolor": "white",
           "ticks": "",
           "title": {
            "standoff": 15
           },
           "zerolinecolor": "white",
           "zerolinewidth": 2
          },
          "yaxis": {
           "automargin": true,
           "gridcolor": "white",
           "linecolor": "white",
           "ticks": "",
           "title": {
            "standoff": 15
           },
           "zerolinecolor": "white",
           "zerolinewidth": 2
          }
         }
        },
        "title": {
         "text": "3D 직육면체와 디바이스 시각화"
        }
       }
      }
     },
     "metadata": {},
     "output_type": "display_data"
    }
   ],
   "source": [
    "# 직육면체의 중심과 각 축의 길이\n",
    "center = [0, 0, 0]\n",
    "lengths = [2, 3, 4]\n",
    "\n",
    "# 디바이스의 크기\n",
    "device_size = [0.5, 0.5, 0.5]\n",
    "\n",
    "# 직육면체의 8개 꼭지점 계산\n",
    "def get_corners(center, lengths):\n",
    "    dx, dy, dz = lengths[0] / 2, lengths[1] / 2, lengths[2] / 2\n",
    "    corners = [\n",
    "        [center[0] - dx, center[1] - dy, center[2] - dz],\n",
    "        [center[0] + dx, center[1] - dy, center[2] - dz],\n",
    "        [center[0] + dx, center[1] + dy, center[2] - dz],\n",
    "        [center[0] - dx, center[1] + dy, center[2] - dz],\n",
    "        [center[0] - dx, center[1] - dy, center[2] + dz],\n",
    "        [center[0] + dx, center[1] - dy, center[2] + dz],\n",
    "        [center[0] + dx, center[1] + dy, center[2] + dz],\n",
    "        [center[0] - dx, center[1] + dy, center[2] + dz]\n",
    "    ]\n",
    "    return np.array(corners)\n",
    "\n",
    "# 디바이스의 꼭지점 계산 (TiltZ, TiltY 면에 부착)\n",
    "def get_device_corners(center, device_size):\n",
    "    dx, dy, dz = device_size[0] / 2, device_size[1] / 2, device_size[2] / 2\n",
    "    base_x = center[0] + lengths[0] / 2 - dx  # 직육면체의 오른쪽 면에 부착\n",
    "    base_y = center[1] + lengths[1] / 2 - dy  # 직육면체의 상단 면에 부착\n",
    "    base_z = center[2] + lengths[2] / 2 - dz  # 직육면체의 전면에 부착\n",
    "    device_corners = [\n",
    "        [base_x - dx, base_y - dy, base_z - dz],\n",
    "        [base_x + dx, base_y - dy, base_z - dz],\n",
    "        [base_x + dx, base_y + dy, base_z - dz],\n",
    "        [base_x - dx, base_y + dy, base_z - dz],\n",
    "        [base_x - dx, base_y - dy, base_z + dz],\n",
    "        [base_x + dx, base_y - dy, base_z + dz],\n",
    "        [base_x + dx, base_y + dy, base_z + dz],\n",
    "        [base_x - dx, base_y + dy, base_z + dz]\n",
    "    ]\n",
    "    return np.array(device_corners)\n",
    "\n",
    "corners = get_corners(center, lengths)\n",
    "device_corners = get_device_corners(center, device_size)\n",
    "\n",
    "# Plotly 3D plot 생성\n",
    "fig = go.Figure(data=[\n",
    "    go.Mesh3d(\n",
    "        x=corners[:, 0],\n",
    "        y=corners[:, 1],\n",
    "        z=corners[:, 2],\n",
    "        color='blue',\n",
    "        opacity=0.3,\n",
    "        alphahull=0\n",
    "    ),\n",
    "    go.Mesh3d(\n",
    "        x=device_corners[:, 0],\n",
    "        y=device_corners[:, 1],\n",
    "        z=device_corners[:, 2],\n",
    "        color='grey',\n",
    "        opacity=0.5,\n",
    "        alphahull=0\n",
    "    )\n",
    "])\n",
    "\n",
    "# 축 설정\n",
    "fig.update_layout(\n",
    "    scene=dict(\n",
    "        xaxis=dict(range=[min(corners[:, 0]) - 1, max(corners[:, 0]) + 1]),\n",
    "        yaxis=dict(range=[min(corners[:, 1]) - 1, max(corners[:, 1]) + 1]),\n",
    "        zaxis=dict(range=[min(corners[:, 2]) - 1, max(corners[:, 2]) + 1]),\n",
    "        xaxis_title='TiltX',\n",
    "        yaxis_title='TiltY',\n",
    "        zaxis_title='TiltZ'\n",
    "    ),\n",
    "    title=\"3D 직육면체와 디바이스 시각화\"\n",
    ")\n",
    "\n",
    "# 플롯 표시\n",
    "fig.show()"
   ]
  },
  {
   "cell_type": "code",
   "execution_count": 26,
   "metadata": {},
   "outputs": [
    {
     "data": {
      "application/vnd.plotly.v1+json": {
       "config": {
        "plotlyServerURL": "https://plot.ly"
       },
       "data": [
        {
         "alphahull": 0,
         "color": "blue",
         "opacity": 0.3,
         "type": "mesh3d",
         "x": {
          "bdata": "AAAAAAAA8L8AAAAAAADwPwAAAAAAAPA/AAAAAAAA8L8AAAAAAADwvwAAAAAAAPA/AAAAAAAA8D8AAAAAAADwvw==",
          "dtype": "f8"
         },
         "y": {
          "bdata": "AAAAAAAA+L8AAAAAAAD4vwAAAAAAAPg/AAAAAAAA+D8AAAAAAAD4vwAAAAAAAPi/AAAAAAAA+D8AAAAAAAD4Pw==",
          "dtype": "f8"
         },
         "z": {
          "bdata": "AAAAAAAAAMAAAAAAAAAAwAAAAAAAAADAAAAAAAAAAMAAAAAAAAAAQAAAAAAAAABAAAAAAAAAAEAAAAAAAAAAQA==",
          "dtype": "f8"
         }
        },
        {
         "alphahull": 0,
         "color": "grey",
         "opacity": 0.5,
         "type": "mesh3d",
         "x": {
          "bdata": "AAAAAAAA4D8AAAAAAADwPwAAAAAAAPA/AAAAAAAA4D8AAAAAAADgPwAAAAAAAPA/AAAAAAAA8D8AAAAAAADgPw==",
          "dtype": "f8"
         },
         "y": {
          "bdata": "AAAAAAAA8D8AAAAAAADwPwAAAAAAAPg/AAAAAAAA+D8AAAAAAADwPwAAAAAAAPA/AAAAAAAA+D8AAAAAAAD4Pw==",
          "dtype": "f8"
         },
         "z": {
          "bdata": "AAAAAAAA+D8AAAAAAAD4PwAAAAAAAPg/AAAAAAAA+D8AAAAAAAAAQAAAAAAAAABAAAAAAAAAAEAAAAAAAAAAQA==",
          "dtype": "f8"
         }
        }
       ],
       "layout": {
        "height": 600,
        "margin": {
         "b": 0,
         "l": 0,
         "r": 0,
         "t": 50
        },
        "scene": {
         "xaxis": {
          "range": [
           -2,
           2
          ],
          "title": {
           "text": "TiltX"
          }
         },
         "yaxis": {
          "range": [
           -2.5,
           2.5
          ],
          "title": {
           "text": "TiltY"
          }
         },
         "zaxis": {
          "range": [
           -3,
           3
          ],
          "title": {
           "text": "TiltZ"
          }
         }
        },
        "template": {
         "data": {
          "bar": [
           {
            "error_x": {
             "color": "#2a3f5f"
            },
            "error_y": {
             "color": "#2a3f5f"
            },
            "marker": {
             "line": {
              "color": "#E5ECF6",
              "width": 0.5
             },
             "pattern": {
              "fillmode": "overlay",
              "size": 10,
              "solidity": 0.2
             }
            },
            "type": "bar"
           }
          ],
          "barpolar": [
           {
            "marker": {
             "line": {
              "color": "#E5ECF6",
              "width": 0.5
             },
             "pattern": {
              "fillmode": "overlay",
              "size": 10,
              "solidity": 0.2
             }
            },
            "type": "barpolar"
           }
          ],
          "carpet": [
           {
            "aaxis": {
             "endlinecolor": "#2a3f5f",
             "gridcolor": "white",
             "linecolor": "white",
             "minorgridcolor": "white",
             "startlinecolor": "#2a3f5f"
            },
            "baxis": {
             "endlinecolor": "#2a3f5f",
             "gridcolor": "white",
             "linecolor": "white",
             "minorgridcolor": "white",
             "startlinecolor": "#2a3f5f"
            },
            "type": "carpet"
           }
          ],
          "choropleth": [
           {
            "colorbar": {
             "outlinewidth": 0,
             "ticks": ""
            },
            "type": "choropleth"
           }
          ],
          "contour": [
           {
            "colorbar": {
             "outlinewidth": 0,
             "ticks": ""
            },
            "colorscale": [
             [
              0,
              "#0d0887"
             ],
             [
              0.1111111111111111,
              "#46039f"
             ],
             [
              0.2222222222222222,
              "#7201a8"
             ],
             [
              0.3333333333333333,
              "#9c179e"
             ],
             [
              0.4444444444444444,
              "#bd3786"
             ],
             [
              0.5555555555555556,
              "#d8576b"
             ],
             [
              0.6666666666666666,
              "#ed7953"
             ],
             [
              0.7777777777777778,
              "#fb9f3a"
             ],
             [
              0.8888888888888888,
              "#fdca26"
             ],
             [
              1,
              "#f0f921"
             ]
            ],
            "type": "contour"
           }
          ],
          "contourcarpet": [
           {
            "colorbar": {
             "outlinewidth": 0,
             "ticks": ""
            },
            "type": "contourcarpet"
           }
          ],
          "heatmap": [
           {
            "colorbar": {
             "outlinewidth": 0,
             "ticks": ""
            },
            "colorscale": [
             [
              0,
              "#0d0887"
             ],
             [
              0.1111111111111111,
              "#46039f"
             ],
             [
              0.2222222222222222,
              "#7201a8"
             ],
             [
              0.3333333333333333,
              "#9c179e"
             ],
             [
              0.4444444444444444,
              "#bd3786"
             ],
             [
              0.5555555555555556,
              "#d8576b"
             ],
             [
              0.6666666666666666,
              "#ed7953"
             ],
             [
              0.7777777777777778,
              "#fb9f3a"
             ],
             [
              0.8888888888888888,
              "#fdca26"
             ],
             [
              1,
              "#f0f921"
             ]
            ],
            "type": "heatmap"
           }
          ],
          "histogram": [
           {
            "marker": {
             "pattern": {
              "fillmode": "overlay",
              "size": 10,
              "solidity": 0.2
             }
            },
            "type": "histogram"
           }
          ],
          "histogram2d": [
           {
            "colorbar": {
             "outlinewidth": 0,
             "ticks": ""
            },
            "colorscale": [
             [
              0,
              "#0d0887"
             ],
             [
              0.1111111111111111,
              "#46039f"
             ],
             [
              0.2222222222222222,
              "#7201a8"
             ],
             [
              0.3333333333333333,
              "#9c179e"
             ],
             [
              0.4444444444444444,
              "#bd3786"
             ],
             [
              0.5555555555555556,
              "#d8576b"
             ],
             [
              0.6666666666666666,
              "#ed7953"
             ],
             [
              0.7777777777777778,
              "#fb9f3a"
             ],
             [
              0.8888888888888888,
              "#fdca26"
             ],
             [
              1,
              "#f0f921"
             ]
            ],
            "type": "histogram2d"
           }
          ],
          "histogram2dcontour": [
           {
            "colorbar": {
             "outlinewidth": 0,
             "ticks": ""
            },
            "colorscale": [
             [
              0,
              "#0d0887"
             ],
             [
              0.1111111111111111,
              "#46039f"
             ],
             [
              0.2222222222222222,
              "#7201a8"
             ],
             [
              0.3333333333333333,
              "#9c179e"
             ],
             [
              0.4444444444444444,
              "#bd3786"
             ],
             [
              0.5555555555555556,
              "#d8576b"
             ],
             [
              0.6666666666666666,
              "#ed7953"
             ],
             [
              0.7777777777777778,
              "#fb9f3a"
             ],
             [
              0.8888888888888888,
              "#fdca26"
             ],
             [
              1,
              "#f0f921"
             ]
            ],
            "type": "histogram2dcontour"
           }
          ],
          "mesh3d": [
           {
            "colorbar": {
             "outlinewidth": 0,
             "ticks": ""
            },
            "type": "mesh3d"
           }
          ],
          "parcoords": [
           {
            "line": {
             "colorbar": {
              "outlinewidth": 0,
              "ticks": ""
             }
            },
            "type": "parcoords"
           }
          ],
          "pie": [
           {
            "automargin": true,
            "type": "pie"
           }
          ],
          "scatter": [
           {
            "fillpattern": {
             "fillmode": "overlay",
             "size": 10,
             "solidity": 0.2
            },
            "type": "scatter"
           }
          ],
          "scatter3d": [
           {
            "line": {
             "colorbar": {
              "outlinewidth": 0,
              "ticks": ""
             }
            },
            "marker": {
             "colorbar": {
              "outlinewidth": 0,
              "ticks": ""
             }
            },
            "type": "scatter3d"
           }
          ],
          "scattercarpet": [
           {
            "marker": {
             "colorbar": {
              "outlinewidth": 0,
              "ticks": ""
             }
            },
            "type": "scattercarpet"
           }
          ],
          "scattergeo": [
           {
            "marker": {
             "colorbar": {
              "outlinewidth": 0,
              "ticks": ""
             }
            },
            "type": "scattergeo"
           }
          ],
          "scattergl": [
           {
            "marker": {
             "colorbar": {
              "outlinewidth": 0,
              "ticks": ""
             }
            },
            "type": "scattergl"
           }
          ],
          "scattermap": [
           {
            "marker": {
             "colorbar": {
              "outlinewidth": 0,
              "ticks": ""
             }
            },
            "type": "scattermap"
           }
          ],
          "scattermapbox": [
           {
            "marker": {
             "colorbar": {
              "outlinewidth": 0,
              "ticks": ""
             }
            },
            "type": "scattermapbox"
           }
          ],
          "scatterpolar": [
           {
            "marker": {
             "colorbar": {
              "outlinewidth": 0,
              "ticks": ""
             }
            },
            "type": "scatterpolar"
           }
          ],
          "scatterpolargl": [
           {
            "marker": {
             "colorbar": {
              "outlinewidth": 0,
              "ticks": ""
             }
            },
            "type": "scatterpolargl"
           }
          ],
          "scatterternary": [
           {
            "marker": {
             "colorbar": {
              "outlinewidth": 0,
              "ticks": ""
             }
            },
            "type": "scatterternary"
           }
          ],
          "surface": [
           {
            "colorbar": {
             "outlinewidth": 0,
             "ticks": ""
            },
            "colorscale": [
             [
              0,
              "#0d0887"
             ],
             [
              0.1111111111111111,
              "#46039f"
             ],
             [
              0.2222222222222222,
              "#7201a8"
             ],
             [
              0.3333333333333333,
              "#9c179e"
             ],
             [
              0.4444444444444444,
              "#bd3786"
             ],
             [
              0.5555555555555556,
              "#d8576b"
             ],
             [
              0.6666666666666666,
              "#ed7953"
             ],
             [
              0.7777777777777778,
              "#fb9f3a"
             ],
             [
              0.8888888888888888,
              "#fdca26"
             ],
             [
              1,
              "#f0f921"
             ]
            ],
            "type": "surface"
           }
          ],
          "table": [
           {
            "cells": {
             "fill": {
              "color": "#EBF0F8"
             },
             "line": {
              "color": "white"
             }
            },
            "header": {
             "fill": {
              "color": "#C8D4E3"
             },
             "line": {
              "color": "white"
             }
            },
            "type": "table"
           }
          ]
         },
         "layout": {
          "annotationdefaults": {
           "arrowcolor": "#2a3f5f",
           "arrowhead": 0,
           "arrowwidth": 1
          },
          "autotypenumbers": "strict",
          "coloraxis": {
           "colorbar": {
            "outlinewidth": 0,
            "ticks": ""
           }
          },
          "colorscale": {
           "diverging": [
            [
             0,
             "#8e0152"
            ],
            [
             0.1,
             "#c51b7d"
            ],
            [
             0.2,
             "#de77ae"
            ],
            [
             0.3,
             "#f1b6da"
            ],
            [
             0.4,
             "#fde0ef"
            ],
            [
             0.5,
             "#f7f7f7"
            ],
            [
             0.6,
             "#e6f5d0"
            ],
            [
             0.7,
             "#b8e186"
            ],
            [
             0.8,
             "#7fbc41"
            ],
            [
             0.9,
             "#4d9221"
            ],
            [
             1,
             "#276419"
            ]
           ],
           "sequential": [
            [
             0,
             "#0d0887"
            ],
            [
             0.1111111111111111,
             "#46039f"
            ],
            [
             0.2222222222222222,
             "#7201a8"
            ],
            [
             0.3333333333333333,
             "#9c179e"
            ],
            [
             0.4444444444444444,
             "#bd3786"
            ],
            [
             0.5555555555555556,
             "#d8576b"
            ],
            [
             0.6666666666666666,
             "#ed7953"
            ],
            [
             0.7777777777777778,
             "#fb9f3a"
            ],
            [
             0.8888888888888888,
             "#fdca26"
            ],
            [
             1,
             "#f0f921"
            ]
           ],
           "sequentialminus": [
            [
             0,
             "#0d0887"
            ],
            [
             0.1111111111111111,
             "#46039f"
            ],
            [
             0.2222222222222222,
             "#7201a8"
            ],
            [
             0.3333333333333333,
             "#9c179e"
            ],
            [
             0.4444444444444444,
             "#bd3786"
            ],
            [
             0.5555555555555556,
             "#d8576b"
            ],
            [
             0.6666666666666666,
             "#ed7953"
            ],
            [
             0.7777777777777778,
             "#fb9f3a"
            ],
            [
             0.8888888888888888,
             "#fdca26"
            ],
            [
             1,
             "#f0f921"
            ]
           ]
          },
          "colorway": [
           "#636efa",
           "#EF553B",
           "#00cc96",
           "#ab63fa",
           "#FFA15A",
           "#19d3f3",
           "#FF6692",
           "#B6E880",
           "#FF97FF",
           "#FECB52"
          ],
          "font": {
           "color": "#2a3f5f"
          },
          "geo": {
           "bgcolor": "white",
           "lakecolor": "white",
           "landcolor": "#E5ECF6",
           "showlakes": true,
           "showland": true,
           "subunitcolor": "white"
          },
          "hoverlabel": {
           "align": "left"
          },
          "hovermode": "closest",
          "mapbox": {
           "style": "light"
          },
          "paper_bgcolor": "white",
          "plot_bgcolor": "#E5ECF6",
          "polar": {
           "angularaxis": {
            "gridcolor": "white",
            "linecolor": "white",
            "ticks": ""
           },
           "bgcolor": "#E5ECF6",
           "radialaxis": {
            "gridcolor": "white",
            "linecolor": "white",
            "ticks": ""
           }
          },
          "scene": {
           "xaxis": {
            "backgroundcolor": "#E5ECF6",
            "gridcolor": "white",
            "gridwidth": 2,
            "linecolor": "white",
            "showbackground": true,
            "ticks": "",
            "zerolinecolor": "white"
           },
           "yaxis": {
            "backgroundcolor": "#E5ECF6",
            "gridcolor": "white",
            "gridwidth": 2,
            "linecolor": "white",
            "showbackground": true,
            "ticks": "",
            "zerolinecolor": "white"
           },
           "zaxis": {
            "backgroundcolor": "#E5ECF6",
            "gridcolor": "white",
            "gridwidth": 2,
            "linecolor": "white",
            "showbackground": true,
            "ticks": "",
            "zerolinecolor": "white"
           }
          },
          "shapedefaults": {
           "line": {
            "color": "#2a3f5f"
           }
          },
          "ternary": {
           "aaxis": {
            "gridcolor": "white",
            "linecolor": "white",
            "ticks": ""
           },
           "baxis": {
            "gridcolor": "white",
            "linecolor": "white",
            "ticks": ""
           },
           "bgcolor": "#E5ECF6",
           "caxis": {
            "gridcolor": "white",
            "linecolor": "white",
            "ticks": ""
           }
          },
          "title": {
           "x": 0.05
          },
          "xaxis": {
           "automargin": true,
           "gridcolor": "white",
           "linecolor": "white",
           "ticks": "",
           "title": {
            "standoff": 15
           },
           "zerolinecolor": "white",
           "zerolinewidth": 2
          },
          "yaxis": {
           "automargin": true,
           "gridcolor": "white",
           "linecolor": "white",
           "ticks": "",
           "title": {
            "standoff": 15
           },
           "zerolinecolor": "white",
           "zerolinewidth": 2
          }
         }
        },
        "title": {
         "text": "3D 화물 도안 및 디바이스 부착 위치"
        },
        "width": 800
       }
      }
     },
     "metadata": {},
     "output_type": "display_data"
    }
   ],
   "source": [
    "# 직육면체의 중심과 각 축의 길이\n",
    "center = [0, 0, 0]\n",
    "lengths = [2, 3, 4]\n",
    "\n",
    "# 디바이스의 크기\n",
    "device_size = [0.5, 0.5, 0.5]\n",
    "\n",
    "# 직육면체의 8개 꼭지점 계산\n",
    "def get_corners(center, lengths):\n",
    "    dx, dy, dz = lengths[0] / 2, lengths[1] / 2, lengths[2] / 2\n",
    "    corners = [\n",
    "        [center[0] - dx, center[1] - dy, center[2] - dz],\n",
    "        [center[0] + dx, center[1] - dy, center[2] - dz],\n",
    "        [center[0] + dx, center[1] + dy, center[2] - dz],\n",
    "        [center[0] - dx, center[1] + dy, center[2] - dz],\n",
    "        [center[0] - dx, center[1] - dy, center[2] + dz],\n",
    "        [center[0] + dx, center[1] - dy, center[2] + dz],\n",
    "        [center[0] + dx, center[1] + dy, center[2] + dz],\n",
    "        [center[0] - dx, center[1] + dy, center[2] + dz]\n",
    "    ]\n",
    "    return np.array(corners)\n",
    "\n",
    "# 디바이스의 꼭지점 계산\n",
    "def get_device_corners(center, device_size):\n",
    "    dx, dy, dz = device_size[0] / 2, device_size[1] / 2, device_size[2] / 2\n",
    "    base_x = center[0] + lengths[0] / 2 - dx  # 직육면체의 오른쪽 면에 부착\n",
    "    base_y = center[1] + lengths[1] / 2 - dy  # 직육면체의 상단 면에 부착\n",
    "    base_z = center[2] + lengths[2] / 2 - dz  # 직육면체의 전면에 부착\n",
    "    device_corners = [\n",
    "        [base_x - dx, base_y - dy, base_z - dz],\n",
    "        [base_x + dx, base_y - dy, base_z - dz],\n",
    "        [base_x + dx, base_y + dy, base_z - dz],\n",
    "        [base_x - dx, base_y + dy, base_z - dz],\n",
    "        [base_x - dx, base_y - dy, base_z + dz],\n",
    "        [base_x + dx, base_y - dy, base_z + dz],\n",
    "        [base_x + dx, base_y + dy, base_z + dz],\n",
    "        [base_x - dx, base_y + dy, base_z + dz]\n",
    "    ]\n",
    "    return np.array(device_corners)\n",
    "\n",
    "corners = get_corners(center, lengths)\n",
    "device_corners = get_device_corners(center, device_size)\n",
    "\n",
    "# Plotly 3D plot 생성\n",
    "fig = go.Figure(data=[\n",
    "    go.Mesh3d(\n",
    "        x=corners[:, 0],\n",
    "        y=corners[:, 1],\n",
    "        z=corners[:, 2],\n",
    "        color='blue',\n",
    "        opacity=0.3,\n",
    "        alphahull=0\n",
    "    ),\n",
    "    go.Mesh3d(\n",
    "        x=device_corners[:, 0],\n",
    "        y=device_corners[:, 1],\n",
    "        z=device_corners[:, 2],\n",
    "        color='grey',\n",
    "        opacity=0.5,\n",
    "        alphahull=0\n",
    "    )\n",
    "])\n",
    "\n",
    "# 축 설정 및 레이아웃 크기 조정\n",
    "fig.update_layout(\n",
    "    scene=dict(\n",
    "        xaxis=dict(range=[min(corners[:, 0]) - 1, max(corners[:, 0]) + 1]),\n",
    "        yaxis=dict(range=[min(corners[:, 1]) - 1, max(corners[:, 1]) + 1]),\n",
    "        zaxis=dict(range=[min(corners[:, 2]) - 1, max(corners[:, 2]) + 1]),\n",
    "        xaxis_title='TiltX',\n",
    "        yaxis_title='TiltY',\n",
    "        zaxis_title='TiltZ'\n",
    "    ),\n",
    "    title=\"3D 화물 도안 및 디바이스 부착 위치\",\n",
    "    width=800,  # 너비 설정\n",
    "    height=600,  # 높이 설정\n",
    "    margin=dict(l=0, r=0, b=0, t=50)  # 여백 설정\n",
    ")\n",
    "\n",
    "# 플롯 표시\n",
    "fig.show()"
   ]
  },
  {
   "cell_type": "code",
   "execution_count": 30,
   "metadata": {},
   "outputs": [
    {
     "data": {
      "application/vnd.plotly.v1+json": {
       "config": {
        "plotlyServerURL": "https://plot.ly"
       },
       "data": [
        {
         "alphahull": 0,
         "color": "blue",
         "opacity": 0.5,
         "type": "mesh3d",
         "x": {
          "bdata": "EuAgiCFz+L+HNIP3mgfbP5xMNpIorOo/5obm/PPe8b+cTDaSKKzqv+aG5vzz3vE/EuAgiCFz+D+HNIP3mgfbvw==",
          "dtype": "f8"
         },
         "y": {
          "bdata": "mLsSbCeK9b8fI7aRQv75v5i7EmwnivU/HyO2kUL++T+YuxJsJ4r1vx8jtpFC/vm/mLsSbCeK9T8fI7aRQv75Pw==",
          "dtype": "f8"
         },
         "z": {
          "bdata": "Vj1lnLgu/L9Fe0CYs9cAwGx9Tj4vbAHAo0GB6K9X/b9sfU4+L2wBQKNBgeivV/0/Vj1lnLgu/D9Fe0CYs9cAQA==",
          "dtype": "f8"
         }
        },
        {
         "alphahull": 0,
         "color": "grey",
         "opacity": 0.3,
         "type": "mesh3d",
         "x": {
          "bdata": "X13BGRdT7D/9GWGezfb1P9ooQOB/D/c/GHt/nXuE7j/Qy4JpWhrvPzXRQUZvWvc/EuAgiCFz+D/FdKB236XwPw==",
          "dtype": "f8"
         },
         "y": {
          "bdata": "t+BeFjl27T/0LI2DKzzrP5i7EmwnivU/epV7NS6n9j+34F4WOXbtP/QsjYMrPOs/mLsSbCeK9T96lXs1Lqf2Pw==",
          "dtype": "f8"
         },
         "z": {
          "bdata": "qjr76n/f9T9dTPRFVH/0P1D2RLnVTfQ/neRLXgGu9T+wgRvOYsD9P2OTFCk3YPw/Vj1lnLgu/D+jK2xB5I79Pw==",
          "dtype": "f8"
         }
        }
       ],
       "layout": {
        "height": 600,
        "margin": {
         "b": 0,
         "l": 0,
         "r": 0,
         "t": 50
        },
        "scene": {
         "xaxis": {
          "range": [
           -2.52810815024532,
           2.52810815024532
          ],
          "title": {
           "text": "TiltX"
          }
         },
         "yaxis": {
          "range": [
           -2.6245752040724213,
           2.6245752040724213
          ],
          "title": {
           "text": "TiltY"
          }
         },
         "zaxis": {
          "range": [
           -3.177824484606097,
           3.177824484606097
          ],
          "title": {
           "text": "TiltZ"
          }
         }
        },
        "template": {
         "data": {
          "bar": [
           {
            "error_x": {
             "color": "#2a3f5f"
            },
            "error_y": {
             "color": "#2a3f5f"
            },
            "marker": {
             "line": {
              "color": "#E5ECF6",
              "width": 0.5
             },
             "pattern": {
              "fillmode": "overlay",
              "size": 10,
              "solidity": 0.2
             }
            },
            "type": "bar"
           }
          ],
          "barpolar": [
           {
            "marker": {
             "line": {
              "color": "#E5ECF6",
              "width": 0.5
             },
             "pattern": {
              "fillmode": "overlay",
              "size": 10,
              "solidity": 0.2
             }
            },
            "type": "barpolar"
           }
          ],
          "carpet": [
           {
            "aaxis": {
             "endlinecolor": "#2a3f5f",
             "gridcolor": "white",
             "linecolor": "white",
             "minorgridcolor": "white",
             "startlinecolor": "#2a3f5f"
            },
            "baxis": {
             "endlinecolor": "#2a3f5f",
             "gridcolor": "white",
             "linecolor": "white",
             "minorgridcolor": "white",
             "startlinecolor": "#2a3f5f"
            },
            "type": "carpet"
           }
          ],
          "choropleth": [
           {
            "colorbar": {
             "outlinewidth": 0,
             "ticks": ""
            },
            "type": "choropleth"
           }
          ],
          "contour": [
           {
            "colorbar": {
             "outlinewidth": 0,
             "ticks": ""
            },
            "colorscale": [
             [
              0,
              "#0d0887"
             ],
             [
              0.1111111111111111,
              "#46039f"
             ],
             [
              0.2222222222222222,
              "#7201a8"
             ],
             [
              0.3333333333333333,
              "#9c179e"
             ],
             [
              0.4444444444444444,
              "#bd3786"
             ],
             [
              0.5555555555555556,
              "#d8576b"
             ],
             [
              0.6666666666666666,
              "#ed7953"
             ],
             [
              0.7777777777777778,
              "#fb9f3a"
             ],
             [
              0.8888888888888888,
              "#fdca26"
             ],
             [
              1,
              "#f0f921"
             ]
            ],
            "type": "contour"
           }
          ],
          "contourcarpet": [
           {
            "colorbar": {
             "outlinewidth": 0,
             "ticks": ""
            },
            "type": "contourcarpet"
           }
          ],
          "heatmap": [
           {
            "colorbar": {
             "outlinewidth": 0,
             "ticks": ""
            },
            "colorscale": [
             [
              0,
              "#0d0887"
             ],
             [
              0.1111111111111111,
              "#46039f"
             ],
             [
              0.2222222222222222,
              "#7201a8"
             ],
             [
              0.3333333333333333,
              "#9c179e"
             ],
             [
              0.4444444444444444,
              "#bd3786"
             ],
             [
              0.5555555555555556,
              "#d8576b"
             ],
             [
              0.6666666666666666,
              "#ed7953"
             ],
             [
              0.7777777777777778,
              "#fb9f3a"
             ],
             [
              0.8888888888888888,
              "#fdca26"
             ],
             [
              1,
              "#f0f921"
             ]
            ],
            "type": "heatmap"
           }
          ],
          "histogram": [
           {
            "marker": {
             "pattern": {
              "fillmode": "overlay",
              "size": 10,
              "solidity": 0.2
             }
            },
            "type": "histogram"
           }
          ],
          "histogram2d": [
           {
            "colorbar": {
             "outlinewidth": 0,
             "ticks": ""
            },
            "colorscale": [
             [
              0,
              "#0d0887"
             ],
             [
              0.1111111111111111,
              "#46039f"
             ],
             [
              0.2222222222222222,
              "#7201a8"
             ],
             [
              0.3333333333333333,
              "#9c179e"
             ],
             [
              0.4444444444444444,
              "#bd3786"
             ],
             [
              0.5555555555555556,
              "#d8576b"
             ],
             [
              0.6666666666666666,
              "#ed7953"
             ],
             [
              0.7777777777777778,
              "#fb9f3a"
             ],
             [
              0.8888888888888888,
              "#fdca26"
             ],
             [
              1,
              "#f0f921"
             ]
            ],
            "type": "histogram2d"
           }
          ],
          "histogram2dcontour": [
           {
            "colorbar": {
             "outlinewidth": 0,
             "ticks": ""
            },
            "colorscale": [
             [
              0,
              "#0d0887"
             ],
             [
              0.1111111111111111,
              "#46039f"
             ],
             [
              0.2222222222222222,
              "#7201a8"
             ],
             [
              0.3333333333333333,
              "#9c179e"
             ],
             [
              0.4444444444444444,
              "#bd3786"
             ],
             [
              0.5555555555555556,
              "#d8576b"
             ],
             [
              0.6666666666666666,
              "#ed7953"
             ],
             [
              0.7777777777777778,
              "#fb9f3a"
             ],
             [
              0.8888888888888888,
              "#fdca26"
             ],
             [
              1,
              "#f0f921"
             ]
            ],
            "type": "histogram2dcontour"
           }
          ],
          "mesh3d": [
           {
            "colorbar": {
             "outlinewidth": 0,
             "ticks": ""
            },
            "type": "mesh3d"
           }
          ],
          "parcoords": [
           {
            "line": {
             "colorbar": {
              "outlinewidth": 0,
              "ticks": ""
             }
            },
            "type": "parcoords"
           }
          ],
          "pie": [
           {
            "automargin": true,
            "type": "pie"
           }
          ],
          "scatter": [
           {
            "fillpattern": {
             "fillmode": "overlay",
             "size": 10,
             "solidity": 0.2
            },
            "type": "scatter"
           }
          ],
          "scatter3d": [
           {
            "line": {
             "colorbar": {
              "outlinewidth": 0,
              "ticks": ""
             }
            },
            "marker": {
             "colorbar": {
              "outlinewidth": 0,
              "ticks": ""
             }
            },
            "type": "scatter3d"
           }
          ],
          "scattercarpet": [
           {
            "marker": {
             "colorbar": {
              "outlinewidth": 0,
              "ticks": ""
             }
            },
            "type": "scattercarpet"
           }
          ],
          "scattergeo": [
           {
            "marker": {
             "colorbar": {
              "outlinewidth": 0,
              "ticks": ""
             }
            },
            "type": "scattergeo"
           }
          ],
          "scattergl": [
           {
            "marker": {
             "colorbar": {
              "outlinewidth": 0,
              "ticks": ""
             }
            },
            "type": "scattergl"
           }
          ],
          "scattermap": [
           {
            "marker": {
             "colorbar": {
              "outlinewidth": 0,
              "ticks": ""
             }
            },
            "type": "scattermap"
           }
          ],
          "scattermapbox": [
           {
            "marker": {
             "colorbar": {
              "outlinewidth": 0,
              "ticks": ""
             }
            },
            "type": "scattermapbox"
           }
          ],
          "scatterpolar": [
           {
            "marker": {
             "colorbar": {
              "outlinewidth": 0,
              "ticks": ""
             }
            },
            "type": "scatterpolar"
           }
          ],
          "scatterpolargl": [
           {
            "marker": {
             "colorbar": {
              "outlinewidth": 0,
              "ticks": ""
             }
            },
            "type": "scatterpolargl"
           }
          ],
          "scatterternary": [
           {
            "marker": {
             "colorbar": {
              "outlinewidth": 0,
              "ticks": ""
             }
            },
            "type": "scatterternary"
           }
          ],
          "surface": [
           {
            "colorbar": {
             "outlinewidth": 0,
             "ticks": ""
            },
            "colorscale": [
             [
              0,
              "#0d0887"
             ],
             [
              0.1111111111111111,
              "#46039f"
             ],
             [
              0.2222222222222222,
              "#7201a8"
             ],
             [
              0.3333333333333333,
              "#9c179e"
             ],
             [
              0.4444444444444444,
              "#bd3786"
             ],
             [
              0.5555555555555556,
              "#d8576b"
             ],
             [
              0.6666666666666666,
              "#ed7953"
             ],
             [
              0.7777777777777778,
              "#fb9f3a"
             ],
             [
              0.8888888888888888,
              "#fdca26"
             ],
             [
              1,
              "#f0f921"
             ]
            ],
            "type": "surface"
           }
          ],
          "table": [
           {
            "cells": {
             "fill": {
              "color": "#EBF0F8"
             },
             "line": {
              "color": "white"
             }
            },
            "header": {
             "fill": {
              "color": "#C8D4E3"
             },
             "line": {
              "color": "white"
             }
            },
            "type": "table"
           }
          ]
         },
         "layout": {
          "annotationdefaults": {
           "arrowcolor": "#2a3f5f",
           "arrowhead": 0,
           "arrowwidth": 1
          },
          "autotypenumbers": "strict",
          "coloraxis": {
           "colorbar": {
            "outlinewidth": 0,
            "ticks": ""
           }
          },
          "colorscale": {
           "diverging": [
            [
             0,
             "#8e0152"
            ],
            [
             0.1,
             "#c51b7d"
            ],
            [
             0.2,
             "#de77ae"
            ],
            [
             0.3,
             "#f1b6da"
            ],
            [
             0.4,
             "#fde0ef"
            ],
            [
             0.5,
             "#f7f7f7"
            ],
            [
             0.6,
             "#e6f5d0"
            ],
            [
             0.7,
             "#b8e186"
            ],
            [
             0.8,
             "#7fbc41"
            ],
            [
             0.9,
             "#4d9221"
            ],
            [
             1,
             "#276419"
            ]
           ],
           "sequential": [
            [
             0,
             "#0d0887"
            ],
            [
             0.1111111111111111,
             "#46039f"
            ],
            [
             0.2222222222222222,
             "#7201a8"
            ],
            [
             0.3333333333333333,
             "#9c179e"
            ],
            [
             0.4444444444444444,
             "#bd3786"
            ],
            [
             0.5555555555555556,
             "#d8576b"
            ],
            [
             0.6666666666666666,
             "#ed7953"
            ],
            [
             0.7777777777777778,
             "#fb9f3a"
            ],
            [
             0.8888888888888888,
             "#fdca26"
            ],
            [
             1,
             "#f0f921"
            ]
           ],
           "sequentialminus": [
            [
             0,
             "#0d0887"
            ],
            [
             0.1111111111111111,
             "#46039f"
            ],
            [
             0.2222222222222222,
             "#7201a8"
            ],
            [
             0.3333333333333333,
             "#9c179e"
            ],
            [
             0.4444444444444444,
             "#bd3786"
            ],
            [
             0.5555555555555556,
             "#d8576b"
            ],
            [
             0.6666666666666666,
             "#ed7953"
            ],
            [
             0.7777777777777778,
             "#fb9f3a"
            ],
            [
             0.8888888888888888,
             "#fdca26"
            ],
            [
             1,
             "#f0f921"
            ]
           ]
          },
          "colorway": [
           "#636efa",
           "#EF553B",
           "#00cc96",
           "#ab63fa",
           "#FFA15A",
           "#19d3f3",
           "#FF6692",
           "#B6E880",
           "#FF97FF",
           "#FECB52"
          ],
          "font": {
           "color": "#2a3f5f"
          },
          "geo": {
           "bgcolor": "white",
           "lakecolor": "white",
           "landcolor": "#E5ECF6",
           "showlakes": true,
           "showland": true,
           "subunitcolor": "white"
          },
          "hoverlabel": {
           "align": "left"
          },
          "hovermode": "closest",
          "mapbox": {
           "style": "light"
          },
          "paper_bgcolor": "white",
          "plot_bgcolor": "#E5ECF6",
          "polar": {
           "angularaxis": {
            "gridcolor": "white",
            "linecolor": "white",
            "ticks": ""
           },
           "bgcolor": "#E5ECF6",
           "radialaxis": {
            "gridcolor": "white",
            "linecolor": "white",
            "ticks": ""
           }
          },
          "scene": {
           "xaxis": {
            "backgroundcolor": "#E5ECF6",
            "gridcolor": "white",
            "gridwidth": 2,
            "linecolor": "white",
            "showbackground": true,
            "ticks": "",
            "zerolinecolor": "white"
           },
           "yaxis": {
            "backgroundcolor": "#E5ECF6",
            "gridcolor": "white",
            "gridwidth": 2,
            "linecolor": "white",
            "showbackground": true,
            "ticks": "",
            "zerolinecolor": "white"
           },
           "zaxis": {
            "backgroundcolor": "#E5ECF6",
            "gridcolor": "white",
            "gridwidth": 2,
            "linecolor": "white",
            "showbackground": true,
            "ticks": "",
            "zerolinecolor": "white"
           }
          },
          "shapedefaults": {
           "line": {
            "color": "#2a3f5f"
           }
          },
          "ternary": {
           "aaxis": {
            "gridcolor": "white",
            "linecolor": "white",
            "ticks": ""
           },
           "baxis": {
            "gridcolor": "white",
            "linecolor": "white",
            "ticks": ""
           },
           "bgcolor": "#E5ECF6",
           "caxis": {
            "gridcolor": "white",
            "linecolor": "white",
            "ticks": ""
           }
          },
          "title": {
           "x": 0.05
          },
          "xaxis": {
           "automargin": true,
           "gridcolor": "white",
           "linecolor": "white",
           "ticks": "",
           "title": {
            "standoff": 15
           },
           "zerolinecolor": "white",
           "zerolinewidth": 2
          },
          "yaxis": {
           "automargin": true,
           "gridcolor": "white",
           "linecolor": "white",
           "ticks": "",
           "title": {
            "standoff": 15
           },
           "zerolinecolor": "white",
           "zerolinewidth": 2
          }
         }
        },
        "title": {
         "text": "3D 화물 도안 및 디바이스 부착 위치 (기울기 적용)"
        },
        "width": 800
       }
      }
     },
     "metadata": {},
     "output_type": "display_data"
    }
   ],
   "source": [
    "def rotate_z(corners, angle_deg):\n",
    "    angle_rad = np.radians(angle_deg)\n",
    "    rotation_matrix = np.array([\n",
    "        [np.cos(angle_rad), -np.sin(angle_rad), 0],\n",
    "        [np.sin(angle_rad), np.cos(angle_rad), 0],\n",
    "        [0, 0, 1]\n",
    "    ])\n",
    "    return np.dot(corners, rotation_matrix.T)\n",
    "\n",
    "def rotate_y(corners, angle_deg):\n",
    "    angle_rad = np.radians(angle_deg)\n",
    "    rotation_matrix = np.array([\n",
    "        [np.cos(angle_rad), 0, np.sin(angle_rad)],\n",
    "        [0, 1, 0],\n",
    "        [-np.sin(angle_rad), 0, np.cos(angle_rad)]\n",
    "    ])\n",
    "    return np.dot(corners, rotation_matrix.T)\n",
    "\n",
    "\n",
    "rotated_corners = rotate_z(corners, -8)  # 좌로 8도 회전\n",
    "rotated_device_corners = rotate_z(device_corners, -8)  # 좌로 8도 회전\n",
    "\n",
    "\n",
    "rotated_corners = rotate_y(rotated_corners, 10)  # 상단으로 10도 회전\n",
    "rotated_device_corners = rotate_y(rotated_device_corners, 10)  # 상단으로 10도 회전\n",
    "\n",
    "fig = go.Figure(data=[\n",
    "    go.Mesh3d(\n",
    "        x=rotated_corners[:, 0],\n",
    "        y=rotated_corners[:, 1],\n",
    "        z=rotated_corners[:, 2],\n",
    "        color='blue',\n",
    "        opacity=0.5,\n",
    "        alphahull=0\n",
    "    ),\n",
    "    go.Mesh3d(\n",
    "        x=rotated_device_corners[:, 0],\n",
    "        y=rotated_device_corners[:, 1],\n",
    "        z=rotated_device_corners[:, 2],\n",
    "        color='grey',\n",
    "        opacity=0.3,\n",
    "        alphahull=0\n",
    "    )\n",
    "])\n",
    "\n",
    "fig.update_layout(\n",
    "    scene=dict(\n",
    "        xaxis=dict(range=[min(rotated_corners[:, 0]) - 1, max(rotated_corners[:, 0]) + 1]),\n",
    "        yaxis=dict(range=[min(rotated_corners[:, 1]) - 1, max(rotated_corners[:, 1]) + 1]),\n",
    "        zaxis=dict(range=[min(rotated_corners[:, 2]) - 1, max(rotated_corners[:, 2]) + 1]),\n",
    "        xaxis_title='TiltX',\n",
    "        yaxis_title='TiltY',\n",
    "        zaxis_title='TiltZ'\n",
    "    ),\n",
    "    title=\"3D 화물 도안 및 디바이스 부착 위치 (기울기 적용)\",\n",
    "    width=800,  # 너비 설정\n",
    "    height=600,  # 높이 설정\n",
    "    margin=dict(l=0, r=0, b=0, t=50)  # 여백 설정\n",
    ")\n",
    "\n",
    "fig.show()"
   ]
  },
  {
   "cell_type": "markdown",
   "metadata": {},
   "source": [
    "## 막대 밀도 그래프"
   ]
  },
  {
   "cell_type": "code",
   "execution_count": 28,
   "metadata": {},
   "outputs": [
    {
     "data": {
      "application/vnd.plotly.v1+json": {
       "config": {
        "plotlyServerURL": "https://plot.ly"
       },
       "data": [
        {
         "marker": {
          "color": "green"
         },
         "name": "안전",
         "type": "bar",
         "x": [
          "2025-01-03T00:00:00.000000000",
          "2025-01-04T00:00:00.000000000",
          "2025-01-05T00:00:00.000000000",
          "2025-01-06T00:00:00.000000000",
          "2025-01-07T00:00:00.000000000",
          "2025-01-08T00:00:00.000000000",
          "2025-01-09T00:00:00.000000000",
          "2025-01-10T00:00:00.000000000",
          "2025-01-11T00:00:00.000000000",
          "2025-01-12T00:00:00.000000000",
          "2025-01-13T00:00:00.000000000",
          "2025-01-14T00:00:00.000000000",
          "2025-01-15T00:00:00.000000000",
          "2025-01-16T00:00:00.000000000",
          "2025-01-17T00:00:00.000000000",
          "2025-01-18T00:00:00.000000000",
          "2025-01-19T00:00:00.000000000",
          "2025-01-20T00:00:00.000000000",
          "2025-01-21T00:00:00.000000000",
          "2025-01-22T00:00:00.000000000",
          "2025-01-23T00:00:00.000000000",
          "2025-01-24T00:00:00.000000000",
          "2025-01-25T00:00:00.000000000",
          "2025-01-26T00:00:00.000000000",
          "2025-01-27T00:00:00.000000000",
          "2025-01-28T00:00:00.000000000",
          "2025-01-29T00:00:00.000000000",
          "2025-01-30T00:00:00.000000000",
          "2025-01-31T00:00:00.000000000",
          "2025-02-01T00:00:00.000000000",
          "2025-02-02T00:00:00.000000000",
          "2025-02-03T00:00:00.000000000",
          "2025-02-04T00:00:00.000000000",
          "2025-02-05T00:00:00.000000000",
          "2025-02-06T00:00:00.000000000",
          "2025-02-07T00:00:00.000000000",
          "2025-02-08T00:00:00.000000000",
          "2025-02-09T00:00:00.000000000",
          "2025-02-10T00:00:00.000000000",
          "2025-02-11T00:00:00.000000000",
          "2025-02-12T00:00:00.000000000",
          "2025-02-13T00:00:00.000000000",
          "2025-02-14T00:00:00.000000000",
          "2025-02-15T00:00:00.000000000",
          "2025-02-16T00:00:00.000000000",
          "2025-02-17T00:00:00.000000000",
          "2025-02-18T00:00:00.000000000",
          "2025-02-19T00:00:00.000000000",
          "2025-02-20T00:00:00.000000000",
          "2025-02-21T00:00:00.000000000",
          "2025-02-22T00:00:00.000000000",
          "2025-02-23T00:00:00.000000000"
         ],
         "y": {
          "bdata": "YADSAMoAfABVAE0AewA2AFoAUwCAAKkAXgCzAFcArABkAFgAXgCYAIkAqADHAKIAvgCDANEAnwBwAJoANgCIAIUAqABOAEYAaQB8AJMAeQDDAGsA1ABGAK4AQACGALEAZQCiAGUAOgA=",
          "dtype": "i2"
         }
        },
        {
         "marker": {
          "color": "yellow"
         },
         "name": "주의",
         "type": "bar",
         "x": [
          "2025-01-03T00:00:00.000000000",
          "2025-01-04T00:00:00.000000000",
          "2025-01-05T00:00:00.000000000",
          "2025-01-06T00:00:00.000000000",
          "2025-01-07T00:00:00.000000000",
          "2025-01-08T00:00:00.000000000",
          "2025-01-09T00:00:00.000000000",
          "2025-01-10T00:00:00.000000000",
          "2025-01-11T00:00:00.000000000",
          "2025-01-12T00:00:00.000000000",
          "2025-01-13T00:00:00.000000000",
          "2025-01-14T00:00:00.000000000",
          "2025-01-15T00:00:00.000000000",
          "2025-01-16T00:00:00.000000000",
          "2025-01-17T00:00:00.000000000",
          "2025-01-18T00:00:00.000000000",
          "2025-01-19T00:00:00.000000000",
          "2025-01-20T00:00:00.000000000",
          "2025-01-21T00:00:00.000000000",
          "2025-01-22T00:00:00.000000000",
          "2025-01-23T00:00:00.000000000",
          "2025-01-24T00:00:00.000000000",
          "2025-01-25T00:00:00.000000000",
          "2025-01-26T00:00:00.000000000",
          "2025-01-27T00:00:00.000000000",
          "2025-01-28T00:00:00.000000000",
          "2025-01-29T00:00:00.000000000",
          "2025-01-30T00:00:00.000000000",
          "2025-01-31T00:00:00.000000000",
          "2025-02-01T00:00:00.000000000",
          "2025-02-02T00:00:00.000000000",
          "2025-02-03T00:00:00.000000000",
          "2025-02-04T00:00:00.000000000",
          "2025-02-05T00:00:00.000000000",
          "2025-02-06T00:00:00.000000000",
          "2025-02-07T00:00:00.000000000",
          "2025-02-08T00:00:00.000000000",
          "2025-02-09T00:00:00.000000000",
          "2025-02-10T00:00:00.000000000",
          "2025-02-11T00:00:00.000000000",
          "2025-02-12T00:00:00.000000000",
          "2025-02-13T00:00:00.000000000",
          "2025-02-14T00:00:00.000000000",
          "2025-02-15T00:00:00.000000000",
          "2025-02-16T00:00:00.000000000",
          "2025-02-17T00:00:00.000000000",
          "2025-02-18T00:00:00.000000000",
          "2025-02-19T00:00:00.000000000",
          "2025-02-20T00:00:00.000000000",
          "2025-02-21T00:00:00.000000000",
          "2025-02-22T00:00:00.000000000",
          "2025-02-23T00:00:00.000000000"
         ],
         "y": {
          "bdata": "cwAbAdIA4ACPAG8AoABWAH4AigCtAOUAagAKAXsA9ACbAJQAngDcANoA+wAWAd4ABgGhABwBzgCYAOUAXQDQALsA8ABaAG0AlgCWAMwArAAuAaMAHAFjAO0AcQC6AN0AiwDqAIQAUgA=",
          "dtype": "i2"
         }
        },
        {
         "marker": {
          "color": "red"
         },
         "name": "위험",
         "type": "bar",
         "x": [
          "2025-01-03T00:00:00.000000000",
          "2025-01-04T00:00:00.000000000",
          "2025-01-05T00:00:00.000000000",
          "2025-01-06T00:00:00.000000000",
          "2025-01-07T00:00:00.000000000",
          "2025-01-08T00:00:00.000000000",
          "2025-01-09T00:00:00.000000000",
          "2025-01-10T00:00:00.000000000",
          "2025-01-11T00:00:00.000000000",
          "2025-01-12T00:00:00.000000000",
          "2025-01-13T00:00:00.000000000",
          "2025-01-14T00:00:00.000000000",
          "2025-01-15T00:00:00.000000000",
          "2025-01-16T00:00:00.000000000",
          "2025-01-17T00:00:00.000000000",
          "2025-01-18T00:00:00.000000000",
          "2025-01-19T00:00:00.000000000",
          "2025-01-20T00:00:00.000000000",
          "2025-01-21T00:00:00.000000000",
          "2025-01-22T00:00:00.000000000",
          "2025-01-23T00:00:00.000000000",
          "2025-01-24T00:00:00.000000000",
          "2025-01-25T00:00:00.000000000",
          "2025-01-26T00:00:00.000000000",
          "2025-01-27T00:00:00.000000000",
          "2025-01-28T00:00:00.000000000",
          "2025-01-29T00:00:00.000000000",
          "2025-01-30T00:00:00.000000000",
          "2025-01-31T00:00:00.000000000",
          "2025-02-01T00:00:00.000000000",
          "2025-02-02T00:00:00.000000000",
          "2025-02-03T00:00:00.000000000",
          "2025-02-04T00:00:00.000000000",
          "2025-02-05T00:00:00.000000000",
          "2025-02-06T00:00:00.000000000",
          "2025-02-07T00:00:00.000000000",
          "2025-02-08T00:00:00.000000000",
          "2025-02-09T00:00:00.000000000",
          "2025-02-10T00:00:00.000000000",
          "2025-02-11T00:00:00.000000000",
          "2025-02-12T00:00:00.000000000",
          "2025-02-13T00:00:00.000000000",
          "2025-02-14T00:00:00.000000000",
          "2025-02-15T00:00:00.000000000",
          "2025-02-16T00:00:00.000000000",
          "2025-02-17T00:00:00.000000000",
          "2025-02-18T00:00:00.000000000",
          "2025-02-19T00:00:00.000000000",
          "2025-02-20T00:00:00.000000000",
          "2025-02-21T00:00:00.000000000",
          "2025-02-22T00:00:00.000000000",
          "2025-02-23T00:00:00.000000000"
         ],
         "y": {
          "bdata": "KVxWSBwhNx4kMj9SJU0nXS4sL1Y0SlY7UzFkPS5QGDpBVh4dQD9FLmI2Yx9mG0lHKDwzHg==",
          "dtype": "i1"
         }
        }
       ],
       "layout": {
        "barmode": "stack",
        "template": {
         "data": {
          "bar": [
           {
            "error_x": {
             "color": "#2a3f5f"
            },
            "error_y": {
             "color": "#2a3f5f"
            },
            "marker": {
             "line": {
              "color": "#E5ECF6",
              "width": 0.5
             },
             "pattern": {
              "fillmode": "overlay",
              "size": 10,
              "solidity": 0.2
             }
            },
            "type": "bar"
           }
          ],
          "barpolar": [
           {
            "marker": {
             "line": {
              "color": "#E5ECF6",
              "width": 0.5
             },
             "pattern": {
              "fillmode": "overlay",
              "size": 10,
              "solidity": 0.2
             }
            },
            "type": "barpolar"
           }
          ],
          "carpet": [
           {
            "aaxis": {
             "endlinecolor": "#2a3f5f",
             "gridcolor": "white",
             "linecolor": "white",
             "minorgridcolor": "white",
             "startlinecolor": "#2a3f5f"
            },
            "baxis": {
             "endlinecolor": "#2a3f5f",
             "gridcolor": "white",
             "linecolor": "white",
             "minorgridcolor": "white",
             "startlinecolor": "#2a3f5f"
            },
            "type": "carpet"
           }
          ],
          "choropleth": [
           {
            "colorbar": {
             "outlinewidth": 0,
             "ticks": ""
            },
            "type": "choropleth"
           }
          ],
          "contour": [
           {
            "colorbar": {
             "outlinewidth": 0,
             "ticks": ""
            },
            "colorscale": [
             [
              0,
              "#0d0887"
             ],
             [
              0.1111111111111111,
              "#46039f"
             ],
             [
              0.2222222222222222,
              "#7201a8"
             ],
             [
              0.3333333333333333,
              "#9c179e"
             ],
             [
              0.4444444444444444,
              "#bd3786"
             ],
             [
              0.5555555555555556,
              "#d8576b"
             ],
             [
              0.6666666666666666,
              "#ed7953"
             ],
             [
              0.7777777777777778,
              "#fb9f3a"
             ],
             [
              0.8888888888888888,
              "#fdca26"
             ],
             [
              1,
              "#f0f921"
             ]
            ],
            "type": "contour"
           }
          ],
          "contourcarpet": [
           {
            "colorbar": {
             "outlinewidth": 0,
             "ticks": ""
            },
            "type": "contourcarpet"
           }
          ],
          "heatmap": [
           {
            "colorbar": {
             "outlinewidth": 0,
             "ticks": ""
            },
            "colorscale": [
             [
              0,
              "#0d0887"
             ],
             [
              0.1111111111111111,
              "#46039f"
             ],
             [
              0.2222222222222222,
              "#7201a8"
             ],
             [
              0.3333333333333333,
              "#9c179e"
             ],
             [
              0.4444444444444444,
              "#bd3786"
             ],
             [
              0.5555555555555556,
              "#d8576b"
             ],
             [
              0.6666666666666666,
              "#ed7953"
             ],
             [
              0.7777777777777778,
              "#fb9f3a"
             ],
             [
              0.8888888888888888,
              "#fdca26"
             ],
             [
              1,
              "#f0f921"
             ]
            ],
            "type": "heatmap"
           }
          ],
          "histogram": [
           {
            "marker": {
             "pattern": {
              "fillmode": "overlay",
              "size": 10,
              "solidity": 0.2
             }
            },
            "type": "histogram"
           }
          ],
          "histogram2d": [
           {
            "colorbar": {
             "outlinewidth": 0,
             "ticks": ""
            },
            "colorscale": [
             [
              0,
              "#0d0887"
             ],
             [
              0.1111111111111111,
              "#46039f"
             ],
             [
              0.2222222222222222,
              "#7201a8"
             ],
             [
              0.3333333333333333,
              "#9c179e"
             ],
             [
              0.4444444444444444,
              "#bd3786"
             ],
             [
              0.5555555555555556,
              "#d8576b"
             ],
             [
              0.6666666666666666,
              "#ed7953"
             ],
             [
              0.7777777777777778,
              "#fb9f3a"
             ],
             [
              0.8888888888888888,
              "#fdca26"
             ],
             [
              1,
              "#f0f921"
             ]
            ],
            "type": "histogram2d"
           }
          ],
          "histogram2dcontour": [
           {
            "colorbar": {
             "outlinewidth": 0,
             "ticks": ""
            },
            "colorscale": [
             [
              0,
              "#0d0887"
             ],
             [
              0.1111111111111111,
              "#46039f"
             ],
             [
              0.2222222222222222,
              "#7201a8"
             ],
             [
              0.3333333333333333,
              "#9c179e"
             ],
             [
              0.4444444444444444,
              "#bd3786"
             ],
             [
              0.5555555555555556,
              "#d8576b"
             ],
             [
              0.6666666666666666,
              "#ed7953"
             ],
             [
              0.7777777777777778,
              "#fb9f3a"
             ],
             [
              0.8888888888888888,
              "#fdca26"
             ],
             [
              1,
              "#f0f921"
             ]
            ],
            "type": "histogram2dcontour"
           }
          ],
          "mesh3d": [
           {
            "colorbar": {
             "outlinewidth": 0,
             "ticks": ""
            },
            "type": "mesh3d"
           }
          ],
          "parcoords": [
           {
            "line": {
             "colorbar": {
              "outlinewidth": 0,
              "ticks": ""
             }
            },
            "type": "parcoords"
           }
          ],
          "pie": [
           {
            "automargin": true,
            "type": "pie"
           }
          ],
          "scatter": [
           {
            "fillpattern": {
             "fillmode": "overlay",
             "size": 10,
             "solidity": 0.2
            },
            "type": "scatter"
           }
          ],
          "scatter3d": [
           {
            "line": {
             "colorbar": {
              "outlinewidth": 0,
              "ticks": ""
             }
            },
            "marker": {
             "colorbar": {
              "outlinewidth": 0,
              "ticks": ""
             }
            },
            "type": "scatter3d"
           }
          ],
          "scattercarpet": [
           {
            "marker": {
             "colorbar": {
              "outlinewidth": 0,
              "ticks": ""
             }
            },
            "type": "scattercarpet"
           }
          ],
          "scattergeo": [
           {
            "marker": {
             "colorbar": {
              "outlinewidth": 0,
              "ticks": ""
             }
            },
            "type": "scattergeo"
           }
          ],
          "scattergl": [
           {
            "marker": {
             "colorbar": {
              "outlinewidth": 0,
              "ticks": ""
             }
            },
            "type": "scattergl"
           }
          ],
          "scattermap": [
           {
            "marker": {
             "colorbar": {
              "outlinewidth": 0,
              "ticks": ""
             }
            },
            "type": "scattermap"
           }
          ],
          "scattermapbox": [
           {
            "marker": {
             "colorbar": {
              "outlinewidth": 0,
              "ticks": ""
             }
            },
            "type": "scattermapbox"
           }
          ],
          "scatterpolar": [
           {
            "marker": {
             "colorbar": {
              "outlinewidth": 0,
              "ticks": ""
             }
            },
            "type": "scatterpolar"
           }
          ],
          "scatterpolargl": [
           {
            "marker": {
             "colorbar": {
              "outlinewidth": 0,
              "ticks": ""
             }
            },
            "type": "scatterpolargl"
           }
          ],
          "scatterternary": [
           {
            "marker": {
             "colorbar": {
              "outlinewidth": 0,
              "ticks": ""
             }
            },
            "type": "scatterternary"
           }
          ],
          "surface": [
           {
            "colorbar": {
             "outlinewidth": 0,
             "ticks": ""
            },
            "colorscale": [
             [
              0,
              "#0d0887"
             ],
             [
              0.1111111111111111,
              "#46039f"
             ],
             [
              0.2222222222222222,
              "#7201a8"
             ],
             [
              0.3333333333333333,
              "#9c179e"
             ],
             [
              0.4444444444444444,
              "#bd3786"
             ],
             [
              0.5555555555555556,
              "#d8576b"
             ],
             [
              0.6666666666666666,
              "#ed7953"
             ],
             [
              0.7777777777777778,
              "#fb9f3a"
             ],
             [
              0.8888888888888888,
              "#fdca26"
             ],
             [
              1,
              "#f0f921"
             ]
            ],
            "type": "surface"
           }
          ],
          "table": [
           {
            "cells": {
             "fill": {
              "color": "#EBF0F8"
             },
             "line": {
              "color": "white"
             }
            },
            "header": {
             "fill": {
              "color": "#C8D4E3"
             },
             "line": {
              "color": "white"
             }
            },
            "type": "table"
           }
          ]
         },
         "layout": {
          "annotationdefaults": {
           "arrowcolor": "#2a3f5f",
           "arrowhead": 0,
           "arrowwidth": 1
          },
          "autotypenumbers": "strict",
          "coloraxis": {
           "colorbar": {
            "outlinewidth": 0,
            "ticks": ""
           }
          },
          "colorscale": {
           "diverging": [
            [
             0,
             "#8e0152"
            ],
            [
             0.1,
             "#c51b7d"
            ],
            [
             0.2,
             "#de77ae"
            ],
            [
             0.3,
             "#f1b6da"
            ],
            [
             0.4,
             "#fde0ef"
            ],
            [
             0.5,
             "#f7f7f7"
            ],
            [
             0.6,
             "#e6f5d0"
            ],
            [
             0.7,
             "#b8e186"
            ],
            [
             0.8,
             "#7fbc41"
            ],
            [
             0.9,
             "#4d9221"
            ],
            [
             1,
             "#276419"
            ]
           ],
           "sequential": [
            [
             0,
             "#0d0887"
            ],
            [
             0.1111111111111111,
             "#46039f"
            ],
            [
             0.2222222222222222,
             "#7201a8"
            ],
            [
             0.3333333333333333,
             "#9c179e"
            ],
            [
             0.4444444444444444,
             "#bd3786"
            ],
            [
             0.5555555555555556,
             "#d8576b"
            ],
            [
             0.6666666666666666,
             "#ed7953"
            ],
            [
             0.7777777777777778,
             "#fb9f3a"
            ],
            [
             0.8888888888888888,
             "#fdca26"
            ],
            [
             1,
             "#f0f921"
            ]
           ],
           "sequentialminus": [
            [
             0,
             "#0d0887"
            ],
            [
             0.1111111111111111,
             "#46039f"
            ],
            [
             0.2222222222222222,
             "#7201a8"
            ],
            [
             0.3333333333333333,
             "#9c179e"
            ],
            [
             0.4444444444444444,
             "#bd3786"
            ],
            [
             0.5555555555555556,
             "#d8576b"
            ],
            [
             0.6666666666666666,
             "#ed7953"
            ],
            [
             0.7777777777777778,
             "#fb9f3a"
            ],
            [
             0.8888888888888888,
             "#fdca26"
            ],
            [
             1,
             "#f0f921"
            ]
           ]
          },
          "colorway": [
           "#636efa",
           "#EF553B",
           "#00cc96",
           "#ab63fa",
           "#FFA15A",
           "#19d3f3",
           "#FF6692",
           "#B6E880",
           "#FF97FF",
           "#FECB52"
          ],
          "font": {
           "color": "#2a3f5f"
          },
          "geo": {
           "bgcolor": "white",
           "lakecolor": "white",
           "landcolor": "#E5ECF6",
           "showlakes": true,
           "showland": true,
           "subunitcolor": "white"
          },
          "hoverlabel": {
           "align": "left"
          },
          "hovermode": "closest",
          "mapbox": {
           "style": "light"
          },
          "paper_bgcolor": "white",
          "plot_bgcolor": "#E5ECF6",
          "polar": {
           "angularaxis": {
            "gridcolor": "white",
            "linecolor": "white",
            "ticks": ""
           },
           "bgcolor": "#E5ECF6",
           "radialaxis": {
            "gridcolor": "white",
            "linecolor": "white",
            "ticks": ""
           }
          },
          "scene": {
           "xaxis": {
            "backgroundcolor": "#E5ECF6",
            "gridcolor": "white",
            "gridwidth": 2,
            "linecolor": "white",
            "showbackground": true,
            "ticks": "",
            "zerolinecolor": "white"
           },
           "yaxis": {
            "backgroundcolor": "#E5ECF6",
            "gridcolor": "white",
            "gridwidth": 2,
            "linecolor": "white",
            "showbackground": true,
            "ticks": "",
            "zerolinecolor": "white"
           },
           "zaxis": {
            "backgroundcolor": "#E5ECF6",
            "gridcolor": "white",
            "gridwidth": 2,
            "linecolor": "white",
            "showbackground": true,
            "ticks": "",
            "zerolinecolor": "white"
           }
          },
          "shapedefaults": {
           "line": {
            "color": "#2a3f5f"
           }
          },
          "ternary": {
           "aaxis": {
            "gridcolor": "white",
            "linecolor": "white",
            "ticks": ""
           },
           "baxis": {
            "gridcolor": "white",
            "linecolor": "white",
            "ticks": ""
           },
           "bgcolor": "#E5ECF6",
           "caxis": {
            "gridcolor": "white",
            "linecolor": "white",
            "ticks": ""
           }
          },
          "title": {
           "x": 0.05
          },
          "xaxis": {
           "automargin": true,
           "gridcolor": "white",
           "linecolor": "white",
           "ticks": "",
           "title": {
            "standoff": 15
           },
           "zerolinecolor": "white",
           "zerolinewidth": 2
          },
          "yaxis": {
           "automargin": true,
           "gridcolor": "white",
           "linecolor": "white",
           "ticks": "",
           "title": {
            "standoff": 15
           },
           "zerolinecolor": "white",
           "zerolinewidth": 2
          }
         }
        },
        "title": {
         "text": "일자별 충격량 상태 빈도(Unit/건)"
        },
        "xaxis": {
         "tickangle": -45,
         "title": {
          "text": "날짜"
         }
        },
        "yaxis": {
         "title": {
          "text": "빈도"
         }
        }
       }
      }
     },
     "metadata": {},
     "output_type": "display_data"
    }
   ],
   "source": [
    "# 날짜 범위 생성 (2025-01-03부터 2025-02-23까지)\n",
    "dt_rg = pd.date_range(start='2025-01-03', end='2025-02-23', freq='D')\n",
    "\n",
    "# 각 날짜별 샘플 수 (400~600개 사이의 랜덤 수 생성)\n",
    "np.random.seed(42)\n",
    "samples_per_day = np.random.randint(150, 601, size=len(dt_rg))\n",
    "\n",
    "# 각 날짜별 충격량 생성\n",
    "shock_values = []\n",
    "for n_samples in samples_per_day:\n",
    "    # 안전(0~0.7), 주의(0.7~1.3), 위험(1.3~2.0) 비율로 충격량 분포\n",
    "    safety = np.random.uniform(0, 0.7, int(n_samples * 0.8))  # 80% 안전\n",
    "    caution = np.random.uniform(0.7, 1.5, int(n_samples * 0.19))  # 15% 주의\n",
    "    danger = np.random.uniform(1.5, 2.0, int(n_samples * 0.01))  # 5% 위험\n",
    "    shock_values.extend(np.concatenate([safety, caution, danger]))\n",
    "\n",
    "# 각 날짜에 대해 충격량 상태 할당\n",
    "date_list = []\n",
    "condition_list = []\n",
    "\n",
    "# 충격량 상태를 각 날짜에 매핑\n",
    "for date, n_samples in zip(dt_rg, samples_per_day):\n",
    "    for _ in range(n_samples):\n",
    "        date_list.append(date)\n",
    "        condition_list.append('안전' if np.random.uniform(0, 2) < 0.7 else '주의' if np.random.uniform(0, 2) < 1.5 else '위험')\n",
    "\n",
    "# 데이터프레임 생성\n",
    "shock_df = pd.DataFrame({\n",
    "    'date': date_list,\n",
    "    'condition': condition_list\n",
    "})\n",
    "\n",
    "# 각 날짜별 상태 빈도 계산\n",
    "condition_counts = shock_df.groupby(['date', 'condition']).size().unstack(fill_value=0)\n",
    "\n",
    "# 시각화: 각 날짜별 상태 빈도 막대 그래프\n",
    "fig = go.Figure()\n",
    "\n",
    "# 각 상태에 대해 트레이스를 추가\n",
    "for condition in ['안전', '주의', '위험']:\n",
    "    fig.add_trace(go.Bar(\n",
    "        x=condition_counts.index,  # 날짜\n",
    "        y=condition_counts[condition],  # 상태 빈도\n",
    "        name=condition,\n",
    "        marker_color='green' if condition == '안전' else ('yellow' if condition == '주의' else 'red')\n",
    "    ))\n",
    "\n",
    "# 레이아웃 설정\n",
    "fig.update_layout(\n",
    "    title='일자별 충격량 상태 빈도(Unit/건)',\n",
    "    xaxis_title='날짜',\n",
    "    yaxis_title='빈도',\n",
    "    barmode='stack',  # 스택형 그래프\n",
    "    xaxis=dict(tickangle=-45),  # 날짜 레이블 각도 조정\n",
    ")\n",
    "\n",
    "# 그래프 표시\n",
    "fig.show()"
   ]
  },
  {
   "cell_type": "markdown",
   "metadata": {},
   "source": []
  }
 ],
 "metadata": {
  "kernelspec": {
   "display_name": "willog",
   "language": "python",
   "name": "python3"
  },
  "language_info": {
   "codemirror_mode": {
    "name": "ipython",
    "version": 3
   },
   "file_extension": ".py",
   "mimetype": "text/x-python",
   "name": "python",
   "nbconvert_exporter": "python",
   "pygments_lexer": "ipython3",
   "version": "3.10.15"
  }
 },
 "nbformat": 4,
 "nbformat_minor": 2
}
