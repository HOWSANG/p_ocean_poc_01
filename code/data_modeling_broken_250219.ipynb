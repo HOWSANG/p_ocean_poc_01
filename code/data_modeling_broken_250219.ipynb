{
 "cells": [
  {
   "cell_type": "code",
   "execution_count": 1,
   "metadata": {},
   "outputs": [],
   "source": [
    "import pandas as pd\n",
    "import numpy as np\n",
    "import psycopg2\n",
    "import pyodbc\n",
    "import mysql.connector\n",
    "import matplotlib.pyplot as plt\n",
    "import seaborn as sns\n",
    "from decimal import Decimal\n",
    "\n",
    "import datetime\n",
    "from tqdm import tqdm\n",
    "\n",
    "import warnings\n",
    "warnings.filterwarnings('ignore')\n",
    "\n",
    "pd.set_option('display.max_columns', None)"
   ]
  },
  {
   "cell_type": "code",
   "execution_count": 2,
   "metadata": {},
   "outputs": [],
   "source": [
    "# Redshift 연결 정보\n",
    "host=''\n",
    "dbname=''\n",
    "user=''\n",
    "password=''\n",
    "port=''"
   ]
  },
  {
   "cell_type": "code",
   "execution_count": 3,
   "metadata": {},
   "outputs": [],
   "source": [
    "# Redshift에 연결\n",
    "conn = psycopg2.connect(\n",
    "    host=host,\n",
    "    dbname=dbname,\n",
    "    user=user,\n",
    "    password=password,\n",
    "    port=port\n",
    ")"
   ]
  },
  {
   "cell_type": "code",
   "execution_count": 4,
   "metadata": {},
   "outputs": [],
   "source": [
    "# 커서 생성\n",
    "cursor = conn.cursor()\n",
    "# SQL 쿼리 실행 (예시: frigga_sample 테이블에서 모든 데이터를 조회)\n",
    "cursor.execute(\"\"\"                          \n",
    "                    SELECT \n",
    "                        *\n",
    "                    FROM \n",
    "                        \"data_analysis_db\".\"da_schema\".\"t_frigga_broken_target\"\n",
    "                    WHERE 1=1\n",
    "                    ORDER BY device_serial ASC\n",
    "                ;\n",
    "               \"\"\")\n",
    "\n",
    "# 결과 가져오기\n",
    "rows = cursor.fetchall()\n",
    "\n",
    "# 컬럼명 가져오기\n",
    "columns = [desc[0] for desc in cursor.description]\n",
    "\n",
    "# DataFrame으로 변환\n",
    "df_broken = pd.DataFrame(rows, columns=columns)\n",
    "\n",
    "# 커서와 연결 종료\n",
    "cursor.close()\n",
    "conn.close()"
   ]
  },
  {
   "cell_type": "code",
   "execution_count": 5,
   "metadata": {},
   "outputs": [
    {
     "name": "stdout",
     "output_type": "stream",
     "text": [
      "  device_serial          start_date            end_date duration_time  \\\n",
      "0      VC6M6002 2024-12-02 14:47:18 2024-12-11 23:37:18        224.83   \n",
      "1      VC6M6003 2024-12-14 09:40:13 2025-01-23 23:50:13        974.17   \n",
      "\n",
      "  duration_day min_temp max_temp mean_temp std_temp min_humi max_humi  \\\n",
      "0         9.00     1.80    21.00      9.36    11.57    48.00    80.00   \n",
      "1        40.00    -0.10    19.80      6.83    14.00    37.00    66.00   \n",
      "\n",
      "  mean_humi std_humi min_acc max_acc mean_acc std_acc q1_temp q3_temp  \\\n",
      "0     67.81     5.29    1.00    1.40     1.02    0.05    6.90   11.70   \n",
      "1     56.53     7.61    1.00    1.52     1.02    0.06    3.90    9.00   \n",
      "\n",
      "  temp_start temp_end q1_humi q3_humi humi_start humi_end q1_acc q3_acc  \\\n",
      "0      -0.30    18.90   64.00   72.00      52.00    84.00   1.00   1.00   \n",
      "1      -3.75    16.65   49.00   62.00      29.50    81.50   1.00   1.01   \n",
      "\n",
      "  acc_start acc_end ta_min ta_max ta_mean ta_std ta_q1 ta_q3 ws1_min ws1_max  \\\n",
      "0      1.00    1.00   0.70  16.10    6.11   3.25  3.80  8.00    0.00    9.10   \n",
      "1      0.98    1.02  -5.40  12.10    5.38   3.79  3.90  8.08    0.00    7.30   \n",
      "\n",
      "  ws1_mean ws1_std ws1_q1 ws1_q3 ws10_min ws10_max ws10_mean ws10_std ws10_q1  \\\n",
      "0     3.32    1.51   2.30   4.20     0.00     8.10      3.24     1.34    2.30   \n",
      "1     2.94    1.32   2.10   3.70     0.10     7.50      2.99     1.26    2.10   \n",
      "\n",
      "  ws10_q3  hm_min  hm_max hm_mean hm_std  hm_q1  hm_q3  alert_temp_sum  \\\n",
      "0    3.90   15.50   83.40   45.84  12.33  39.80  53.60              12   \n",
      "1    3.70  -99.20  100.00   42.83  19.78  36.10  48.05              24   \n",
      "\n",
      "   alert_humi_sum  alert_acc_sum broken_yn  \n",
      "0              10            200         0  \n",
      "1               0            148         1  \n",
      "(156, 57)\n"
     ]
    }
   ],
   "source": [
    "print(df_broken.head(2))\n",
    "print(df_broken.shape)"
   ]
  },
  {
   "cell_type": "code",
   "execution_count": 6,
   "metadata": {},
   "outputs": [
    {
     "data": {
      "text/plain": [
       "Index(['device_serial', 'start_date', 'end_date', 'duration_time',\n",
       "       'duration_day', 'min_temp', 'max_temp', 'mean_temp', 'std_temp',\n",
       "       'min_humi', 'max_humi', 'mean_humi', 'std_humi', 'min_acc', 'max_acc',\n",
       "       'mean_acc', 'std_acc', 'q1_temp', 'q3_temp', 'temp_start', 'temp_end',\n",
       "       'q1_humi', 'q3_humi', 'humi_start', 'humi_end', 'q1_acc', 'q3_acc',\n",
       "       'acc_start', 'acc_end', 'ta_min', 'ta_max', 'ta_mean', 'ta_std',\n",
       "       'ta_q1', 'ta_q3', 'ws1_min', 'ws1_max', 'ws1_mean', 'ws1_std', 'ws1_q1',\n",
       "       'ws1_q3', 'ws10_min', 'ws10_max', 'ws10_mean', 'ws10_std', 'ws10_q1',\n",
       "       'ws10_q3', 'hm_min', 'hm_max', 'hm_mean', 'hm_std', 'hm_q1', 'hm_q3',\n",
       "       'alert_temp_sum', 'alert_humi_sum', 'alert_acc_sum', 'broken_yn'],\n",
       "      dtype='object')"
      ]
     },
     "execution_count": 6,
     "metadata": {},
     "output_type": "execute_result"
    }
   ],
   "source": [
    "df_broken.columns"
   ]
  },
  {
   "cell_type": "markdown",
   "metadata": {},
   "source": [
    "## BASE LINE"
   ]
  },
  {
   "cell_type": "code",
   "execution_count": 7,
   "metadata": {},
   "outputs": [],
   "source": [
    "from sklearn.model_selection import train_test_split\n",
    "from sklearn.linear_model import LogisticRegression\n",
    "from sklearn.preprocessing import StandardScaler\n",
    "from sklearn.ensemble import RandomForestClassifier\n",
    "from xgboost import XGBClassifier\n",
    "from sklearn.metrics import accuracy_score, roc_auc_score, classification_report, confusion_matrix, ConfusionMatrixDisplay"
   ]
  },
  {
   "cell_type": "code",
   "execution_count": 8,
   "metadata": {},
   "outputs": [],
   "source": [
    "# 독립변수 / 종속변수 구분# 독립 변수와 종속 변수 정의\n",
    "X = df_broken[['duration_time', 'duration_day', 'min_temp', 'max_temp', 'mean_temp', 'std_temp', 'min_humi', 'max_humi', 'mean_humi', 'std_humi', \n",
    "                'min_acc', 'max_acc', 'mean_acc', 'std_acc', 'q1_temp', 'q3_temp', 'temp_start', 'temp_end', 'q1_humi', 'q3_humi', \n",
    "                'humi_start', 'humi_end', 'q1_acc', 'q3_acc', 'acc_start', 'acc_end', 'ta_min', 'ta_max', 'ta_mean', 'ta_std', \n",
    "                'ta_q1', 'ta_q3', 'ws1_min', 'ws1_max', 'ws1_mean', 'ws1_std', 'ws1_q1', 'ws1_q3', 'ws10_min', 'ws10_max', \n",
    "                'ws10_mean', 'ws10_std', 'ws10_q1', 'ws10_q3', 'hm_min', 'hm_max', 'hm_mean', 'hm_std', 'hm_q1', 'hm_q3', \n",
    "                'alert_temp_sum', 'alert_humi_sum', 'alert_acc_sum']]\n",
    "\n",
    "# y = df_broken['broken_yn']\n",
    "y = df_broken['broken_yn'].astype(int)"
   ]
  },
  {
   "cell_type": "code",
   "execution_count": 9,
   "metadata": {},
   "outputs": [],
   "source": [
    "# 데이터 분할 (훈련 세트와 테스트 세트)\n",
    "X_train, X_test, y_train, y_test = train_test_split(X, y, test_size=0.2, random_state=42)"
   ]
  },
  {
   "cell_type": "code",
   "execution_count": 10,
   "metadata": {},
   "outputs": [],
   "source": [
    "# Feature Scaling\n",
    "scaler = StandardScaler()\n",
    "X_train_scaled = scaler.fit_transform(X_train)  # 훈련 세트에 맞춰 스케일링\n",
    "X_test_scaled = scaler.transform(X_test)  # 테스트 세트에 동일한 스케일링 적용"
   ]
  },
  {
   "cell_type": "code",
   "execution_count": 11,
   "metadata": {},
   "outputs": [
    {
     "name": "stdout",
     "output_type": "stream",
     "text": [
      "정확도: 0.9375\n",
      "ROC AUC 점수: 1.0000\n",
      "분류 보고서:\n",
      "              precision    recall  f1-score   support\n",
      "\n",
      "           0       1.00      0.92      0.96        25\n",
      "           1       0.78      1.00      0.88         7\n",
      "\n",
      "    accuracy                           0.94        32\n",
      "   macro avg       0.89      0.96      0.92        32\n",
      "weighted avg       0.95      0.94      0.94        32\n",
      "\n"
     ]
    },
    {
     "data": {
      "image/png": "[encoded data removed]",
      "text/plain": [
       "<Figure size 640x480 with 2 Axes>"
      ]
     },
     "metadata": {},
     "output_type": "display_data"
    }
   ],
   "source": [
    "# 로지스틱 회귀 모델 생성\n",
    "lr_model = LogisticRegression(max_iter=1000)\n",
    "lr_model.fit(X_train_scaled, y_train)\n",
    "y_pred_lr = lr_model.predict(X_test)\n",
    "y_pred_proba = lr_model.predict_proba(X_test_scaled)[:, 1]  # 클래스 1에 대한 확률\n",
    "\n",
    "# 예측 결과 평가\n",
    "y_pred_lr = lr_model.predict(X_test_scaled)\n",
    "accuracy = accuracy_score(y_test, y_pred_lr)\n",
    "roc_auc = roc_auc_score(y_test, y_pred_proba)\n",
    "\n",
    "# 결과 출력\n",
    "print(f\"정확도: {accuracy:.4f}\")\n",
    "print(f\"ROC AUC 점수: {roc_auc:.4f}\")\n",
    "print(\"분류 보고서:\")\n",
    "print(classification_report(y_test, y_pred_lr))\n",
    "\n",
    "# Confusion Matrix 계산\n",
    "cm = confusion_matrix(y_test, y_pred_lr)\n",
    "\n",
    "# Confusion Matrix 시각화\n",
    "disp = ConfusionMatrixDisplay(confusion_matrix=cm, display_labels=lr_model.classes_)\n",
    "disp.plot(cmap=plt.cm.Blues)\n",
    "plt.title('Confusion Matrix')\n",
    "plt.show()"
   ]
  },
  {
   "cell_type": "code",
   "execution_count": 12,
   "metadata": {},
   "outputs": [
    {
     "name": "stdout",
     "output_type": "stream",
     "text": [
      "Feature Importance:\n",
      "            Feature  Importance\n",
      "11         max_acc    0.352934\n",
      "7         max_humi    0.033619\n",
      "13         std_acc    0.033253\n",
      "51  alert_humi_sum    0.032489\n",
      "3         max_temp    0.027648\n",
      "5         std_temp    0.027270\n",
      "33         ws1_max    0.025489\n",
      "9         std_humi    0.023171\n",
      "29          ta_std    0.022138\n",
      "24       acc_start    0.022113\n",
      "0    duration_time    0.020972\n",
      "45          hm_max    0.019137\n",
      "1     duration_day    0.018408\n",
      "48           hm_q1    0.018350\n",
      "47          hm_std    0.016427\n",
      "26          ta_min    0.015955\n",
      "44          hm_min    0.015233\n",
      "39        ws10_max    0.015031\n",
      "6         min_humi    0.014344\n",
      "25         acc_end    0.013810\n",
      "21        humi_end    0.013271\n",
      "17        temp_end    0.011416\n",
      "2         min_temp    0.010691\n",
      "46         hm_mean    0.009448\n",
      "37          ws1_q3    0.008723\n",
      "30           ta_q1    0.008397\n",
      "52   alert_acc_sum    0.008347\n",
      "20      humi_start    0.008289\n",
      "40       ws10_mean    0.008049\n",
      "41        ws10_std    0.007785\n",
      "36          ws1_q1    0.007781\n",
      "22          q1_acc    0.007677\n",
      "35         ws1_std    0.007667\n",
      "49           hm_q3    0.007629\n",
      "43         ws10_q3    0.007519\n",
      "4        mean_temp    0.007475\n",
      "42         ws10_q1    0.007119\n",
      "28         ta_mean    0.006981\n",
      "10         min_acc    0.006905\n",
      "8        mean_humi    0.006776\n",
      "12        mean_acc    0.006737\n",
      "23          q3_acc    0.006215\n",
      "16      temp_start    0.006107\n",
      "34        ws1_mean    0.006085\n",
      "14         q1_temp    0.005647\n",
      "50  alert_temp_sum    0.005395\n",
      "18         q1_humi    0.005364\n",
      "19         q3_humi    0.005093\n",
      "15         q3_temp    0.005043\n",
      "38        ws10_min    0.004757\n",
      "31           ta_q3    0.003498\n",
      "27          ta_max    0.003326\n",
      "32         ws1_min    0.000994\n",
      "정확도: 0.8125\n",
      "ROC AUC 점수: 1.0000\n",
      "분류 보고서:\n",
      "              precision    recall  f1-score   support\n",
      "\n",
      "           0       0.81      1.00      0.89        25\n",
      "           1       1.00      0.14      0.25         7\n",
      "\n",
      "    accuracy                           0.81        32\n",
      "   macro avg       0.90      0.57      0.57        32\n",
      "weighted avg       0.85      0.81      0.75        32\n",
      "\n"
     ]
    },
    {
     "data": {
      "image/png": "[encoded data removed]",
      "text/plain": [
       "<Figure size 640x480 with 2 Axes>"
      ]
     },
     "metadata": {},
     "output_type": "display_data"
    }
   ],
   "source": [
    "# 2. 랜덤 포레스트 모델\n",
    "rf_model = RandomForestClassifier(random_state=42)\n",
    "rf_model.fit(X_train, y_train)  # 스케일링 필요 없음\n",
    "y_pred_rf = rf_model.predict(X_test)\n",
    "y_pred_proba_rf = rf_model.predict_proba(X_test)[:, 1]\n",
    "\n",
    "# 예측 결과 평가\n",
    "y_pred_rf = rf_model.predict(X_test_scaled)\n",
    "accuracy = accuracy_score(y_test, y_pred_rf)\n",
    "roc_auc = roc_auc_score(y_test, y_pred_proba_rf)\n",
    "\n",
    "# 변수 중요도 확인\n",
    "importances = rf_model.feature_importances_\n",
    "feature_importance = pd.DataFrame({'Feature': X.columns, 'Importance': importances})\n",
    "feature_importance = feature_importance.sort_values(by='Importance', ascending=False)\n",
    "\n",
    "# 중요도가 높은 변수 출력\n",
    "print(\"Feature Importance:\\n\", feature_importance)\n",
    "\n",
    "# 결과 출력\n",
    "print(f\"정확도: {accuracy:.4f}\")\n",
    "print(f\"ROC AUC 점수: {roc_auc:.4f}\")\n",
    "print(\"분류 보고서:\")\n",
    "print(classification_report(y_test, y_pred_rf))\n",
    "\n",
    "\n",
    "# Confusion Matrix 계산\n",
    "cm = confusion_matrix(y_test, y_pred_rf)\n",
    "\n",
    "# Confusion Matrix 시각화\n",
    "disp = ConfusionMatrixDisplay(confusion_matrix=cm, display_labels=rf_model.classes_)\n",
    "disp.plot(cmap=plt.cm.Blues)\n",
    "plt.title('Confusion Matrix')\n",
    "plt.show()"
   ]
  },
  {
   "cell_type": "code",
   "execution_count": 14,
   "metadata": {},
   "outputs": [
    {
     "name": "stdout",
     "output_type": "stream",
     "text": [
      "정확도: 0.8125\n",
      "ROC AUC 점수: 1.0000\n",
      "분류 보고서:\n",
      "              precision    recall  f1-score   support\n",
      "\n",
      "           0       0.81      1.00      0.89        25\n",
      "           1       1.00      0.14      0.25         7\n",
      "\n",
      "    accuracy                           0.81        32\n",
      "   macro avg       0.90      0.57      0.57        32\n",
      "weighted avg       0.85      0.81      0.75        32\n",
      "\n"
     ]
    },
    {
     "data": {
      "image/png": "[encoded data removed]",
      "text/plain": [
       "<Figure size 640x480 with 2 Axes>"
      ]
     },
     "metadata": {},
     "output_type": "display_data"
    }
   ],
   "source": [
    "# 3. XGBoost 모델\n",
    "xgb_model = XGBClassifier(use_label_encoder=False, eval_metric='logloss', random_state=42)\n",
    "xgb_model.fit(X_train.values, y_train.values)  # 스케일링 필요 없음\n",
    "y_pred_xgb = xgb_model.predict(X_test.values)\n",
    "y_pred_proba_xgb = xgb_model.predict_proba(X_test.values)[:, 1]\n",
    "\n",
    "# 예측 결과 평가\n",
    "y_pred_xgb = xgb_model.predict(X_test_scaled)\n",
    "accuracy = accuracy_score(y_test, y_pred_xgb)\n",
    "roc_auc = roc_auc_score(y_test, y_pred_proba_xgb)\n",
    "\n",
    "# 결과 출력\n",
    "print(f\"정확도: {accuracy:.4f}\")\n",
    "print(f\"ROC AUC 점수: {roc_auc:.4f}\")\n",
    "print(\"분류 보고서:\")\n",
    "print(classification_report(y_test, y_pred_xgb))\n",
    "\n",
    "# Confusion Matrix 계산\n",
    "cm = confusion_matrix(y_test, y_pred_xgb)\n",
    "\n",
    "# Confusion Matrix 시각화\n",
    "disp = ConfusionMatrixDisplay(confusion_matrix=cm, display_labels=xgb_model.classes_)\n",
    "disp.plot(cmap=plt.cm.Blues)\n",
    "plt.title('Confusion Matrix')\n",
    "plt.show()"
   ]
  },
  {
   "cell_type": "markdown",
   "metadata": {},
   "source": [
    "### feature 정보 가감"
   ]
  },
  {
   "cell_type": "code",
   "execution_count": 12,
   "metadata": {},
   "outputs": [],
   "source": [
    "# 독립변수 / 종속변수 구분# 독립 변수와 종속 변수 정의\n",
    "X = df_broken[['duration_time', 'mean_temp', 'mean_humi', 'mean_acc', 'ta_mean', 'ws1_mean', 'ws10_mean', 'alert_temp_sum', 'alert_humi_sum', 'alert_acc_sum']]\n",
    "y = df_broken['broken_yn'].astype(int)"
   ]
  },
  {
   "cell_type": "code",
   "execution_count": 13,
   "metadata": {},
   "outputs": [],
   "source": [
    "# 데이터 분할 (훈련 세트와 테스트 세트)\n",
    "X_train, X_test, y_train, y_test = train_test_split(X, y, test_size=0.2, random_state=42)"
   ]
  },
  {
   "cell_type": "code",
   "execution_count": 14,
   "metadata": {},
   "outputs": [],
   "source": [
    "# Feature Scaling\n",
    "scaler = StandardScaler()\n",
    "X_train_scaled = scaler.fit_transform(X_train)  # 훈련 세트에 맞춰 스케일링\n",
    "X_test_scaled = scaler.transform(X_test)  # 테스트 세트에 동일한 스케일링 적용"
   ]
  },
  {
   "cell_type": "code",
   "execution_count": 15,
   "metadata": {},
   "outputs": [
    {
     "name": "stdout",
     "output_type": "stream",
     "text": [
      "정확도: 0.6875\n",
      "ROC AUC 점수: 0.6400\n",
      "분류 보고서:\n",
      "              precision    recall  f1-score   support\n",
      "\n",
      "           0       0.78      0.84      0.81        25\n",
      "           1       0.20      0.14      0.17         7\n",
      "\n",
      "    accuracy                           0.69        32\n",
      "   macro avg       0.49      0.49      0.49        32\n",
      "weighted avg       0.65      0.69      0.67        32\n",
      "\n"
     ]
    }
   ],
   "source": [
    "# 로지스틱 회귀 모델 생성\n",
    "lr_model = LogisticRegression(max_iter=1000)\n",
    "lr_model.fit(X_train_scaled, y_train)\n",
    "\n",
    "# 예측 확률 계산\n",
    "y_pred_proba = lr_model.predict_proba(X_test_scaled)[:, 1]  # 클래스 1에 대한 확률\n",
    "\n",
    "# 예측 결과 평가\n",
    "y_pred = lr_model.predict(X_test_scaled)\n",
    "accuracy = accuracy_score(y_test, y_pred)\n",
    "roc_auc = roc_auc_score(y_test, y_pred_proba)\n",
    "\n",
    "# 결과 출력\n",
    "print(f\"정확도: {accuracy:.4f}\")\n",
    "print(f\"ROC AUC 점수: {roc_auc:.4f}\")\n",
    "print(\"분류 보고서:\")\n",
    "print(classification_report(y_test, y_pred))"
   ]
  },
  {
   "cell_type": "code",
   "execution_count": null,
   "metadata": {},
   "outputs": [],
   "source": []
  }
 ],
 "metadata": {
  "kernelspec": {
   "display_name": "willog",
   "language": "python",
   "name": "python3"
  },
  "language_info": {
   "codemirror_mode": {
    "name": "ipython",
    "version": 3
   },
   "file_extension": ".py",
   "mimetype": "text/x-python",
   "name": "python",
   "nbconvert_exporter": "python",
   "pygments_lexer": "ipython3",
   "version": "3.10.15"
  }
 },
 "nbformat": 4,
 "nbformat_minor": 2
}
